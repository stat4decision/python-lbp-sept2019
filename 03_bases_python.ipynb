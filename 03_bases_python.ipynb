{
 "cells": [
  {
   "cell_type": "markdown",
   "metadata": {
    "slideshow": {
     "slide_type": "slide"
    }
   },
   "source": [
    "# Les bases du langage Python\n",
    "\n",
    "\n",
    "- Langage de haut niveau\n",
    "- Langage interprété\n",
    "- Langage orienté objet\n",
    "- Langage le plus proche possible du langage naturel\n",
    "\n",
    "*Attention Python est sensible à la casse*"
   ]
  },
  {
   "cell_type": "code",
   "execution_count": 1,
   "metadata": {},
   "outputs": [
    {
     "name": "stdout",
     "output_type": "stream",
     "text": [
      "<class 'str'>\n"
     ]
    }
   ],
   "source": [
    "x = \"5.5\"\n",
    "print(type(x))"
   ]
  },
  {
   "cell_type": "markdown",
   "metadata": {
    "slideshow": {
     "slide_type": "slide"
    }
   },
   "source": [
    "# Quelques rappels en Python\n",
    "\n",
    "- Tout est objet même les \"variables\"\n",
    "- Un objet possède toujours des propriétés et des méthodes\n",
    "\n",
    "Avec iPython, on utilise pour connaître les méthodes et les propriétés :\n",
    "```\n",
    "mon_objet.[tabulation]\n",
    "```"
   ]
  },
  {
   "cell_type": "markdown",
   "metadata": {
    "slideshow": {
     "slide_type": "slide"
    }
   },
   "source": [
    "# Les types en Python\n",
    "\n",
    "Les types de base :\n",
    "- int\n",
    "- float\n",
    "- boolean\n",
    "- string\n",
    "\n",
    "En Python pas besoin de déclarer le type de données, le langage s’en charge tout seul\n",
    "\n",
    "Python est basé sur un typage fort - une fois un objet d'un type donné, Python ne l'adapte pas\n",
    "\n",
    "Pour connaître le type d’une variable, on utilise : type(nom_de_variable)\n"
   ]
  },
  {
   "cell_type": "code",
   "execution_count": 2,
   "metadata": {
    "slideshow": {
     "slide_type": "fragment"
    }
   },
   "outputs": [
    {
     "name": "stdout",
     "output_type": "stream",
     "text": [
      "<class 'int'>\n"
     ]
    }
   ],
   "source": [
    "nom_de_variable=44\n",
    "print(type(nom_de_variable))"
   ]
  },
  {
   "cell_type": "markdown",
   "metadata": {
    "slideshow": {
     "slide_type": "subslide"
    }
   },
   "source": [
    "**Exercice**\n",
    "\n",
    "Définir quatre variables distinctes, un entier, un float, un booléen et une chaîne de caractère et affichez-les dans la console.\n"
   ]
  },
  {
   "cell_type": "code",
   "execution_count": 4,
   "metadata": {},
   "outputs": [],
   "source": [
    "entier1 = 44\n",
    "float1 = 44.4\n",
    "bool1 = True\n",
    "chaine1 = \"Python\"\n",
    "chaine2 = 'Python'\n",
    "chaine3 = \"\"\"Python\"\"\""
   ]
  },
  {
   "cell_type": "code",
   "execution_count": 5,
   "metadata": {},
   "outputs": [
    {
     "name": "stdout",
     "output_type": "stream",
     "text": [
      "44 -|- 44.4 -|- True -|- Python -|- Python -|- Python\n"
     ]
    }
   ],
   "source": [
    "print(entier1,float1,bool1,chaine1,chaine2,chaine3,sep= \" -|- \")"
   ]
  },
  {
   "cell_type": "markdown",
   "metadata": {
    "slideshow": {
     "slide_type": "slide"
    }
   },
   "source": [
    "# Les opérations arithmétiques\n",
    "\n",
    "- +\n",
    "- -\n",
    "- *\n",
    "- /\n",
    "- ** (puissance)\n",
    "- % (modulo)"
   ]
  },
  {
   "cell_type": "code",
   "execution_count": null,
   "metadata": {
    "slideshow": {
     "slide_type": "subslide"
    }
   },
   "outputs": [],
   "source": []
  },
  {
   "cell_type": "markdown",
   "metadata": {
    "slideshow": {
     "slide_type": "slide"
    }
   },
   "source": [
    "# Les chaînes de caractères\n",
    "\n",
    "### 3 codages équivalents :"
   ]
  },
  {
   "cell_type": "code",
   "execution_count": 6,
   "metadata": {
    "slideshow": {
     "slide_type": "fragment"
    }
   },
   "outputs": [
    {
     "name": "stdout",
     "output_type": "stream",
     "text": [
      "Python Python Python\n"
     ]
    }
   ],
   "source": [
    "print(\"Python\",'Python',\"\"\"Python\"\"\")"
   ]
  },
  {
   "cell_type": "markdown",
   "metadata": {
    "slideshow": {
     "slide_type": "fragment"
    }
   },
   "source": [
    "De nombreuses opérations sur les chaînes : "
   ]
  },
  {
   "cell_type": "code",
   "execution_count": 7,
   "metadata": {
    "slideshow": {
     "slide_type": "fragment"
    }
   },
   "outputs": [
    {
     "name": "stdout",
     "output_type": "stream",
     "text": [
      "6 python PYTHON python\n"
     ]
    }
   ],
   "source": [
    "chaine1=\"python\"\n",
    "print(len(chaine1), chaine1.lower(), chaine1.upper(), str(chaine1))"
   ]
  },
  {
   "cell_type": "code",
   "execution_count": 8,
   "metadata": {},
   "outputs": [
    {
     "data": {
      "text/plain": [
       "'Python'"
      ]
     },
     "execution_count": 8,
     "metadata": {},
     "output_type": "execute_result"
    }
   ],
   "source": [
    "chaine1.capitalize()"
   ]
  },
  {
   "cell_type": "code",
   "execution_count": 9,
   "metadata": {},
   "outputs": [
    {
     "data": {
      "text/plain": [
       "1"
      ]
     },
     "execution_count": 9,
     "metadata": {},
     "output_type": "execute_result"
    }
   ],
   "source": [
    "chaine1.capitalize().count(\"y\")"
   ]
  },
  {
   "cell_type": "markdown",
   "metadata": {
    "slideshow": {
     "slide_type": "subslide"
    }
   },
   "source": [
    "**Exercice**\n",
    "\n",
    "Définir une variable comprenant la chaîne 'Python pour la Science', utilisez des opérations sur les chaînes pour afficher 'PYTHON POUR LA DATA SCIENCE'\n"
   ]
  },
  {
   "cell_type": "code",
   "execution_count": 10,
   "metadata": {},
   "outputs": [],
   "source": [
    "chaine_python = 'Python pour la Science'"
   ]
  },
  {
   "cell_type": "code",
   "execution_count": 11,
   "metadata": {},
   "outputs": [
    {
     "name": "stdout",
     "output_type": "stream",
     "text": [
      "PYTHON POUR LA DATA SCIENCE\n"
     ]
    }
   ],
   "source": [
    "print(chaine_python.replace('la','la data').upper())"
   ]
  },
  {
   "cell_type": "code",
   "execution_count": 12,
   "metadata": {
    "scrolled": true
   },
   "outputs": [
    {
     "name": "stdout",
     "output_type": "stream",
     "text": [
      "PYTHON POUR LA DATA SCIENCE\n"
     ]
    }
   ],
   "source": [
    "print((chaine_python[0:15]+\"data\"+chaine_python[14:22]).upper())"
   ]
  },
  {
   "cell_type": "markdown",
   "metadata": {
    "slideshow": {
     "slide_type": "slide"
    }
   },
   "source": [
    "# Les opérateurs booléens\n",
    "\n",
    "- `not`, `and` et `or`\n",
    "- Ordres de priorité\n",
    "    - `not`\n",
    "    - `and`\n",
    "    - `or`"
   ]
  },
  {
   "cell_type": "code",
   "execution_count": 5,
   "metadata": {
    "slideshow": {
     "slide_type": "fragment"
    }
   },
   "outputs": [
    {
     "name": "stdout",
     "output_type": "stream",
     "text": [
      "False\n",
      "True\n",
      "False\n",
      "False\n",
      "False\n"
     ]
    }
   ],
   "source": [
    "print(not True)\n",
    "print(True or False)\n",
    "print(True and False)\n",
    "print(not True and False)\n",
    "print(not True or False)"
   ]
  },
  {
   "cell_type": "markdown",
   "metadata": {
    "slideshow": {
     "slide_type": "slide"
    }
   },
   "source": [
    "# Les convertisseurs de type\n",
    "\n",
    "On peut convertir des types en utilisant :"
   ]
  },
  {
   "cell_type": "code",
   "execution_count": 13,
   "metadata": {
    "slideshow": {
     "slide_type": "fragment"
    }
   },
   "outputs": [
    {
     "name": "stdout",
     "output_type": "stream",
     "text": [
      "<class 'float'>\n"
     ]
    }
   ],
   "source": [
    "print(type(float(entier1)))"
   ]
  },
  {
   "cell_type": "code",
   "execution_count": 14,
   "metadata": {
    "slideshow": {
     "slide_type": "fragment"
    }
   },
   "outputs": [
    {
     "name": "stdout",
     "output_type": "stream",
     "text": [
      "<class 'bool'>\n",
      "<class 'bool'>\n"
     ]
    }
   ],
   "source": [
    "print(type(bool('True')))\n",
    "print(type(bool(0)))"
   ]
  },
  {
   "cell_type": "markdown",
   "metadata": {
    "slideshow": {
     "slide_type": "slide"
    }
   },
   "source": [
    "# Les opérateurs pour les conditions\n",
    "\n",
    "Permet de mettre en place des conditions\n",
    "\n",
    "On utilise la syntaxe :\n",
    "```{python}\n",
    "if ... :\n",
    "    ...\n",
    "elif ... :\n",
    "    ...\n",
    "else:\n",
    "    ...\n",
    "```"
   ]
  },
  {
   "cell_type": "code",
   "execution_count": 15,
   "metadata": {
    "slideshow": {
     "slide_type": "fragment"
    }
   },
   "outputs": [],
   "source": [
    "bool1=1"
   ]
  },
  {
   "cell_type": "markdown",
   "metadata": {},
   "source": [
    "**Exercice :** Testez si bool1 est vrai et d'autres conditions"
   ]
  },
  {
   "cell_type": "code",
   "execution_count": 16,
   "metadata": {},
   "outputs": [
    {
     "name": "stdout",
     "output_type": "stream",
     "text": [
      "c'est faux\n"
     ]
    }
   ],
   "source": [
    "if bool1 is True:\n",
    "    print(\"c'est vrai\")\n",
    "else:\n",
    "    print(\"c'est faux\")"
   ]
  },
  {
   "cell_type": "code",
   "execution_count": 17,
   "metadata": {},
   "outputs": [
    {
     "name": "stdout",
     "output_type": "stream",
     "text": [
      "c'est vrai\n"
     ]
    }
   ],
   "source": [
    "if bool1 == True:\n",
    "    print(\"c'est vrai\")\n",
    "else:\n",
    "    print(\"c'est faux\")"
   ]
  },
  {
   "cell_type": "code",
   "execution_count": 19,
   "metadata": {},
   "outputs": [
    {
     "name": "stdout",
     "output_type": "stream",
     "text": [
      "c'est vrai\n"
     ]
    }
   ],
   "source": [
    "val1=6.0\n",
    "if val1 == 6:\n",
    "    print(\"c'est vrai\")\n",
    "else:\n",
    "    print(\"c'est faux\")"
   ]
  },
  {
   "cell_type": "markdown",
   "metadata": {
    "slideshow": {
     "slide_type": "fragment"
    }
   },
   "source": [
    "- Attention dans une condition, si on teste l'égalité des valeurs, il faut utiliser == (les autres opérateurs sont <, <=, >, >=, !=)\n",
    "- Il existe aussi l'opérateur is qui est très important en Python (lisibilité)\n",
    "    - Il permet de tester non pas uniquement les valeurs mais les objets similaires ( True == 1 est vrai mais True is 1 est faux) \n",
    "- Veillez à bien respecter l’indentation\n"
   ]
  },
  {
   "cell_type": "markdown",
   "metadata": {
    "slideshow": {
     "slide_type": "slide"
    }
   },
   "source": [
    "# La boucle for\n",
    "\n",
    "- Les boucles for de Python ont une structure spécifique\n",
    "- L'itérateur prend comme valeur les éléments d'une liste\n",
    "- Structure :\n",
    "```\n",
    "for indice in sequence:\n",
    "    instructions\n",
    "```\n",
    "- On peut utiliser `break` pour casser une boucle \n",
    "\n",
    "- `while` peut aussi être utilisé\n"
   ]
  },
  {
   "cell_type": "code",
   "execution_count": 20,
   "metadata": {},
   "outputs": [],
   "source": [
    "liste_abc = [\"a\",\"b\",\"c\"]"
   ]
  },
  {
   "cell_type": "code",
   "execution_count": 22,
   "metadata": {},
   "outputs": [
    {
     "name": "stdout",
     "output_type": "stream",
     "text": [
      "a\n",
      "b\n",
      "c\n"
     ]
    }
   ],
   "source": [
    "# mauvaise approche\n",
    "for i in range(3):\n",
    "    print(liste_abc[i])"
   ]
  },
  {
   "cell_type": "code",
   "execution_count": 23,
   "metadata": {},
   "outputs": [
    {
     "name": "stdout",
     "output_type": "stream",
     "text": [
      "a\n",
      "b\n",
      "c\n"
     ]
    }
   ],
   "source": [
    "for col in liste_abc:\n",
    "    print(col)"
   ]
  },
  {
   "cell_type": "markdown",
   "metadata": {
    "slideshow": {
     "slide_type": "fragment"
    }
   },
   "source": [
    "**La boucle de Python est un outil à manier avec parcimonie (elle est très lente)**"
   ]
  },
  {
   "cell_type": "markdown",
   "metadata": {
    "slideshow": {
     "slide_type": "subslide"
    }
   },
   "source": [
    "L'utilisation de `range(n)` permet de créer une liste de valeur de 0 à n-1"
   ]
  },
  {
   "cell_type": "markdown",
   "metadata": {
    "slideshow": {
     "slide_type": "subslide"
    }
   },
   "source": [
    "**Exercice :**\n",
    "    \n",
    "Créez une boucle for qui parcourt un range de 0 à 5 et qui ajoute 1 à une variable à chaque boucle"
   ]
  },
  {
   "cell_type": "code",
   "execution_count": 25,
   "metadata": {},
   "outputs": [
    {
     "name": "stdout",
     "output_type": "stream",
     "text": [
      "6\n"
     ]
    }
   ],
   "source": [
    "x=0\n",
    "for i in range(6):\n",
    "    x+=1\n",
    "print(x)"
   ]
  },
  {
   "cell_type": "markdown",
   "metadata": {
    "slideshow": {
     "slide_type": "fragment"
    }
   },
   "source": [
    "**Exercice :**\n",
    "    \n",
    "    \n",
    "Créer une boucle permettant d’afficher des phrases avec une valeur différente à chaque boucle \"Nous sommes ...\""
   ]
  },
  {
   "cell_type": "code",
   "execution_count": 26,
   "metadata": {},
   "outputs": [],
   "source": [
    "semaine = [\"lundi\",\"mardi\",\"mercredi\"]"
   ]
  },
  {
   "cell_type": "code",
   "execution_count": 27,
   "metadata": {},
   "outputs": [
    {
     "name": "stdout",
     "output_type": "stream",
     "text": [
      "Nous sommes lundi\n",
      "Nous sommes mardi\n",
      "Nous sommes mercredi\n"
     ]
    }
   ],
   "source": [
    "for jour in semaine:\n",
    "    print(\"Nous sommes %s\" %(jour) )"
   ]
  },
  {
   "cell_type": "code",
   "execution_count": 28,
   "metadata": {},
   "outputs": [
    {
     "name": "stdout",
     "output_type": "stream",
     "text": [
      "Nous sommes lundi\n",
      "Nous sommes mardi\n",
      "Nous sommes mercredi\n"
     ]
    }
   ],
   "source": [
    "for jour in semaine:\n",
    "    print(\"Nous sommes {}\".format(jour) )"
   ]
  },
  {
   "cell_type": "code",
   "execution_count": 29,
   "metadata": {},
   "outputs": [
    {
     "name": "stdout",
     "output_type": "stream",
     "text": [
      "Nous sommes lundi\n",
      "Nous sommes mardi\n",
      "Nous sommes mercredi\n"
     ]
    }
   ],
   "source": [
    "for i in range(len(semaine)):\n",
    "    print(\"Nous sommes {}\".format(semaine[i]) )"
   ]
  },
  {
   "cell_type": "markdown",
   "metadata": {},
   "source": [
    "Créer une boucle permettant d’afficher des phrases avec une valeur différente à chaque boucle \"Nous sommes ... et il fait ... degrés\""
   ]
  },
  {
   "cell_type": "code",
   "execution_count": 30,
   "metadata": {},
   "outputs": [],
   "source": [
    "temperature = [24,33,22]"
   ]
  },
  {
   "cell_type": "code",
   "execution_count": 31,
   "metadata": {},
   "outputs": [
    {
     "name": "stdout",
     "output_type": "stream",
     "text": [
      "Nous sommes lundi et il fait 24 degrés\n",
      "Nous sommes mardi et il fait 33 degrés\n",
      "Nous sommes mercredi et il fait 22 degrés\n"
     ]
    }
   ],
   "source": [
    "for i in range(len(semaine)):\n",
    "    print(\"Nous sommes {} et il fait {} degrés\".format(semaine[i],temperature[i]) )"
   ]
  },
  {
   "cell_type": "code",
   "execution_count": 32,
   "metadata": {},
   "outputs": [
    {
     "name": "stdout",
     "output_type": "stream",
     "text": [
      "Nous sommes lundi et il fait 24 degrés\n",
      "Nous sommes mardi et il fait 33 degrés\n",
      "Nous sommes mercredi et il fait 22 degrés\n"
     ]
    }
   ],
   "source": [
    "for jour, temp in zip(semaine,temperature):\n",
    "    print(\"Nous sommes {} et il fait {} degrés\".format(jour,temp) )"
   ]
  },
  {
   "cell_type": "markdown",
   "metadata": {
    "slideshow": {
     "slide_type": "slide"
    }
   },
   "source": [
    "# Les collections d’objet sous Python\n",
    "\n",
    "Il existe 3 structures principales de données sous Python :\n",
    "- Les tuples : suite de valeurs immuable définie par `( )`\n",
    "- Les listes : suite de valeurs modulable définie par `[ ]`\n",
    "- Les dictionnaires : valeurs indexées clé – valeur défini par `{ }` \n",
    "\n",
    "    \n",
    "En Python, quelle que soit la structure, on utilise `[ ]` pour accéder à un élément d’une structure\n",
    "\n",
    "\n",
    "- Dans un tuple : `tup1[0]` permet d’accéder au premier élément\n"
   ]
  },
  {
   "cell_type": "code",
   "execution_count": null,
   "metadata": {},
   "outputs": [],
   "source": []
  },
  {
   "cell_type": "markdown",
   "metadata": {
    "slideshow": {
     "slide_type": "slide"
    }
   },
   "source": [
    "# Les tuples\n",
    "\n",
    "- On ne peut pas modifier un tuple une fois créé\n",
    "\n",
    "**Attention sous Python, le premier indice est toujours le 0**"
   ]
  },
  {
   "cell_type": "code",
   "execution_count": 33,
   "metadata": {
    "slideshow": {
     "slide_type": "fragment"
    }
   },
   "outputs": [
    {
     "name": "stdout",
     "output_type": "stream",
     "text": [
      "4\n",
      "(3, 5)\n"
     ]
    }
   ],
   "source": [
    "#on définit un tuple\n",
    "tu = (1,3,5,7)\n",
    "#on peut rechercher sa taille\n",
    "print(len(tu))\n",
    "#on accès aux indices en utilisant []\n",
    "tu2=tu[1:3]\n",
    "print(tu2)"
   ]
  },
  {
   "cell_type": "code",
   "execution_count": 34,
   "metadata": {},
   "outputs": [],
   "source": [
    "tu3 = 4,6,5,True, 'rrr'"
   ]
  },
  {
   "cell_type": "code",
   "execution_count": 35,
   "metadata": {},
   "outputs": [
    {
     "data": {
      "text/plain": [
       "(4, 6, 5, True, 'rrr')"
      ]
     },
     "execution_count": 35,
     "metadata": {},
     "output_type": "execute_result"
    }
   ],
   "source": [
    "tu3"
   ]
  },
  {
   "cell_type": "markdown",
   "metadata": {
    "slideshow": {
     "slide_type": "slide"
    }
   },
   "source": [
    "# Les listes\n",
    "\n",
    "Une liste est un tuple de taille dynamique et modifiable\n",
    "\n",
    "Les listes sont définies avec des `[ ]`\n",
    "\n",
    "Les méthodes sur les listes comprennent :\n",
    "- `.append()`\t\t\tajoute une valeur en fin de liste\n",
    "- `.insert(i,val)`\t\tinsert une valeur à l’indice i\n",
    "- `.pop(i)`\t\t\textrait la valeur de l’indice i\n",
    "- `.reverse()`\t\t\tinverse la liste\n",
    "- `.extend()` \t\t\tétend la liste\n",
    "\n",
    "**Attention la plupart des méthodes des listes modifient la liste.**"
   ]
  },
  {
   "cell_type": "markdown",
   "metadata": {
    "slideshow": {
     "slide_type": "subslide"
    }
   },
   "source": [
    "**Exercice:**\n",
    "    \n",
    "Créez une liste composée de 5 éléments, affichez la longueur de la liste."
   ]
  },
  {
   "cell_type": "code",
   "execution_count": 38,
   "metadata": {},
   "outputs": [],
   "source": [
    "liste1 = [2,\"Python\",\"client\",22,True]"
   ]
  },
  {
   "cell_type": "code",
   "execution_count": 39,
   "metadata": {},
   "outputs": [
    {
     "name": "stdout",
     "output_type": "stream",
     "text": [
      "5\n"
     ]
    }
   ],
   "source": [
    "print(len(liste1))"
   ]
  },
  {
   "cell_type": "code",
   "execution_count": 40,
   "metadata": {},
   "outputs": [
    {
     "name": "stdout",
     "output_type": "stream",
     "text": [
      "[2, 'Python', 'client', 22, True]\n"
     ]
    }
   ],
   "source": [
    "print(liste1)"
   ]
  },
  {
   "cell_type": "markdown",
   "metadata": {
    "slideshow": {
     "slide_type": "fragment"
    }
   },
   "source": [
    "Modifiez la dernière valeur de la liste et construisez une seconde liste à partir des 3 dernières valeurs de la liste initiale."
   ]
  },
  {
   "cell_type": "code",
   "execution_count": 41,
   "metadata": {},
   "outputs": [
    {
     "name": "stdout",
     "output_type": "stream",
     "text": [
      "[2, 'Python', 'client', 22, 10]\n"
     ]
    }
   ],
   "source": [
    "liste1[-1]= 10\n",
    "print(liste1)\n",
    "liste2 = liste1[-3:]"
   ]
  },
  {
   "cell_type": "code",
   "execution_count": 42,
   "metadata": {},
   "outputs": [
    {
     "name": "stdout",
     "output_type": "stream",
     "text": [
      "['client', 22, 10]\n"
     ]
    }
   ],
   "source": [
    "print(liste2)"
   ]
  },
  {
   "cell_type": "markdown",
   "metadata": {
    "slideshow": {
     "slide_type": "slide"
    }
   },
   "source": [
    "# Les listes (suite)\n",
    "\n",
    "On peut faire des recherché plus avancées dans les listes :\n",
    "- `val in list` renvoie `True` si la valeur `val` est dans la liste `list`\n",
    "- `.index(val)` renvoie l'indice de la valeur `val`\n",
    "- `.count(val)` renvoie le nombre d'occurrence de `val`\n",
    "- `.remove(val)` retire la valeur `val` de la liste (que la 1ère)\n",
    "\n",
    "Pour supprimer une liste ou un élément d’une liste, on utilise la commande `del`\n"
   ]
  },
  {
   "cell_type": "code",
   "execution_count": null,
   "metadata": {},
   "outputs": [],
   "source": []
  },
  {
   "cell_type": "markdown",
   "metadata": {
    "slideshow": {
     "slide_type": "subslide"
    }
   },
   "source": [
    "# Un générateur de liste : la List Comprehension\n",
    "\n",
    "On peut définir des listes de manière plus complexe :"
   ]
  },
  {
   "cell_type": "code",
   "execution_count": 43,
   "metadata": {
    "slideshow": {
     "slide_type": "fragment"
    }
   },
   "outputs": [],
   "source": [
    "listinit=list(range(0,100000,2))"
   ]
  },
  {
   "cell_type": "code",
   "execution_count": 44,
   "metadata": {},
   "outputs": [],
   "source": [
    "listinit = [4,7,8,2,3]"
   ]
  },
  {
   "cell_type": "code",
   "execution_count": 45,
   "metadata": {},
   "outputs": [],
   "source": [
    "res = [x**2 for x in listinit if (x % 2 == 0)] "
   ]
  },
  {
   "cell_type": "code",
   "execution_count": 46,
   "metadata": {},
   "outputs": [],
   "source": [
    "res2=[]\n",
    "for x in listinit:\n",
    "    if x % 2 == 0:\n",
    "        res2.append(x**2)"
   ]
  },
  {
   "cell_type": "code",
   "execution_count": 47,
   "metadata": {},
   "outputs": [
    {
     "data": {
      "text/plain": [
       "[16, 64, 4]"
      ]
     },
     "execution_count": 47,
     "metadata": {},
     "output_type": "execute_result"
    }
   ],
   "source": [
    "res"
   ]
  },
  {
   "cell_type": "code",
   "execution_count": 48,
   "metadata": {},
   "outputs": [
    {
     "data": {
      "text/plain": [
       "[16, 64, 4]"
      ]
     },
     "execution_count": 48,
     "metadata": {},
     "output_type": "execute_result"
    }
   ],
   "source": [
    "res2"
   ]
  },
  {
   "cell_type": "markdown",
   "metadata": {
    "slideshow": {
     "slide_type": "subslide"
    }
   },
   "source": [
    "**Exercice :**\n",
    "    \n",
    "A partir d’une liste de valeurs en degrés celsius `[0, 10, 20, 35]`, créez une liste en degrés fahrenheits sachant que la formule de transfert est `(9/5*temp+32)`"
   ]
  },
  {
   "cell_type": "code",
   "execution_count": 49,
   "metadata": {},
   "outputs": [],
   "source": [
    "temp_celsius =[0, 10, 20, 35]\n",
    "temp_fahr = [(9/5*temp+32) for temp in temp_celsius] "
   ]
  },
  {
   "cell_type": "markdown",
   "metadata": {
    "slideshow": {
     "slide_type": "slide"
    }
   },
   "source": [
    "# Les chaînes de caractères, des listes spécifiques\n",
    "\n",
    "Une chaîne de caractère est une liste avec des méthodes spécifiques (`.upper()`, `.find()`, `.count()`, `.replace()`...)\n",
    "\n",
    "Pour aller plus loin, on peut transformer une chaîne en liste :\n",
    "- Caractère par caractère : `list(str)`\n",
    "- En fonction de séparateurs : `.split(sep)`\n",
    "- Et effectuer l’opération inverse :\n",
    "```\n",
    "sep.join(list)\n",
    "```"
   ]
  },
  {
   "cell_type": "markdown",
   "metadata": {
    "slideshow": {
     "slide_type": "subslide"
    }
   },
   "source": [
    "**Exercice :**\n",
    "\n",
    "Créez la chaîne 'Vive la data science', transformez-la en une liste de quatre éléments."
   ]
  },
  {
   "cell_type": "code",
   "execution_count": 50,
   "metadata": {},
   "outputs": [],
   "source": [
    "chaine_python = \"Vive la data science\"\n",
    "liste_python = chaine_python.split()"
   ]
  },
  {
   "cell_type": "markdown",
   "metadata": {
    "slideshow": {
     "slide_type": "fragment"
    }
   },
   "source": [
    "Ajoutez les valeurs 'Python' et 'et' à cette liste de manière à créer 'Vive Python et la data science'."
   ]
  },
  {
   "cell_type": "code",
   "execution_count": 51,
   "metadata": {},
   "outputs": [],
   "source": [
    "liste_python.insert(1,\"Python et\")"
   ]
  },
  {
   "cell_type": "markdown",
   "metadata": {
    "slideshow": {
     "slide_type": "fragment"
    }
   },
   "source": [
    "Affichez la chaîne de caractère obtenue."
   ]
  },
  {
   "cell_type": "code",
   "execution_count": 52,
   "metadata": {},
   "outputs": [
    {
     "name": "stdout",
     "output_type": "stream",
     "text": [
      "Vive Python et la data science\n"
     ]
    }
   ],
   "source": [
    "print(\" \".join(liste_python))"
   ]
  },
  {
   "cell_type": "markdown",
   "metadata": {
    "slideshow": {
     "slide_type": "subslide"
    }
   },
   "source": [
    "# Chaîne de caractères\n",
    "\n",
    "Pour intégrer des valeurs spécifiques dans une phrase, on utilisera :\n",
    "- `%f`, `%s`, `%i` à l’intérieur de la chaîne (`float`, `str` ou `entier`)\n",
    "- `%( , )` après la chaîne de caractères"
   ]
  },
  {
   "cell_type": "code",
   "execution_count": 53,
   "metadata": {
    "slideshow": {
     "slide_type": "fragment"
    }
   },
   "outputs": [
    {
     "name": "stdout",
     "output_type": "stream",
     "text": [
      "Aujourd'hui nous sommes mercredi\n"
     ]
    }
   ],
   "source": [
    "print(\"Aujourd'hui nous sommes %s\" %(\"mercredi\"))"
   ]
  },
  {
   "cell_type": "markdown",
   "metadata": {
    "slideshow": {
     "slide_type": "fragment"
    }
   },
   "source": [
    "Si on veut intégrer d'autres types, on utilisera la méthode `.format()` et le codage `{}` dans la chaîne"
   ]
  },
  {
   "cell_type": "code",
   "execution_count": 54,
   "metadata": {
    "slideshow": {
     "slide_type": "fragment"
    }
   },
   "outputs": [
    {
     "name": "stdout",
     "output_type": "stream",
     "text": [
      "La liste [4.5, 3.6, 6] est utilisée\n"
     ]
    }
   ],
   "source": [
    "print(\"La liste {} est utilisée\".format([4.5,3.6,6]))"
   ]
  },
  {
   "cell_type": "markdown",
   "metadata": {
    "slideshow": {
     "slide_type": "slide"
    }
   },
   "source": [
    "# Les dictionnaires\n",
    "\n",
    "Il s'agit d’une collection d’objets non ordonnés associant les notions \"clé – valeur\"."
   ]
  },
  {
   "cell_type": "code",
   "execution_count": 55,
   "metadata": {
    "slideshow": {
     "slide_type": "fragment"
    }
   },
   "outputs": [],
   "source": [
    "dico = {'Paris':5, 'Lyon':2, 'Bordeaux':1}"
   ]
  },
  {
   "cell_type": "code",
   "execution_count": 56,
   "metadata": {},
   "outputs": [],
   "source": [
    "from sklearn.linear_model import LogisticRegression,LinearRegression"
   ]
  },
  {
   "cell_type": "code",
   "execution_count": 57,
   "metadata": {},
   "outputs": [],
   "source": [
    "model_churn = LogisticRegression()\n",
    "model_churn2 = LinearRegression()"
   ]
  },
  {
   "cell_type": "code",
   "execution_count": 58,
   "metadata": {},
   "outputs": [],
   "source": [
    "dico_modeles = {\"churn_logit\": model_churn, \"churn_lin\" : model_churn2}"
   ]
  },
  {
   "cell_type": "code",
   "execution_count": 59,
   "metadata": {},
   "outputs": [
    {
     "data": {
      "text/plain": [
       "LogisticRegression(C=1.0, class_weight=None, dual=False, fit_intercept=True,\n",
       "          intercept_scaling=1, max_iter=100, multi_class='warn',\n",
       "          n_jobs=None, penalty='l2', random_state=None, solver='warn',\n",
       "          tol=0.0001, verbose=0, warm_start=False)"
      ]
     },
     "execution_count": 59,
     "metadata": {},
     "output_type": "execute_result"
    }
   ],
   "source": [
    "dico_modeles[\"churn_logit\"]"
   ]
  },
  {
   "cell_type": "code",
   "execution_count": 60,
   "metadata": {},
   "outputs": [
    {
     "data": {
      "text/plain": [
       "dict_keys(['churn_logit', 'churn_lin'])"
      ]
     },
     "execution_count": 60,
     "metadata": {},
     "output_type": "execute_result"
    }
   ],
   "source": [
    "dico_modeles.keys()"
   ]
  },
  {
   "cell_type": "code",
   "execution_count": 61,
   "metadata": {
    "slideshow": {
     "slide_type": "fragment"
    }
   },
   "outputs": [
    {
     "name": "stdout",
     "output_type": "stream",
     "text": [
      "dict_keys(['Paris', 'Lyon', 'Bordeaux'])\n",
      "dict_values([5, 2, 1])\n"
     ]
    }
   ],
   "source": [
    "# On utilise pour afficher la liste des clés et des valeurs\n",
    "print(dico.keys())\n",
    "print(dico.values())"
   ]
  },
  {
   "cell_type": "code",
   "execution_count": 62,
   "metadata": {
    "slideshow": {
     "slide_type": "fragment"
    }
   },
   "outputs": [
    {
     "name": "stdout",
     "output_type": "stream",
     "text": [
      "5\n"
     ]
    }
   ],
   "source": [
    "# On accède aux valeurs par clé\n",
    "print(dico[\"Paris\"])"
   ]
  },
  {
   "cell_type": "markdown",
   "metadata": {
    "slideshow": {
     "slide_type": "slide"
    }
   },
   "source": [
    "# Les fonctions \n",
    "\n",
    "- Les niveaux d’une fonction dépendent de l’indentation\n",
    "- On définit une fonction avec `def fonction():`\n",
    "- Le contenu de la fonction suit\n",
    "- La valeur que retourne la fonction est définie par `return` \n",
    "- Les commentaires liés à une fonction sont inclus dans un docstring (commentaire utilisant `\"\"\"`) \n"
   ]
  },
  {
   "cell_type": "code",
   "execution_count": 63,
   "metadata": {
    "slideshow": {
     "slide_type": "fragment"
    }
   },
   "outputs": [],
   "source": [
    "def affichage_produit(val1,val2):\n",
    "    \"\"\"Cette fonction affiche le produit de 2 valeurs\"\"\"\n",
    "    return val1*val2"
   ]
  },
  {
   "cell_type": "code",
   "execution_count": 64,
   "metadata": {},
   "outputs": [
    {
     "data": {
      "text/plain": [
       "1851849814815"
      ]
     },
     "execution_count": 64,
     "metadata": {},
     "output_type": "execute_result"
    }
   ],
   "source": [
    "affichage_produit(3333333,555555)"
   ]
  },
  {
   "cell_type": "code",
   "execution_count": 65,
   "metadata": {},
   "outputs": [
    {
     "name": "stdout",
     "output_type": "stream",
     "text": [
      "245 ns ± 1.62 ns per loop (mean ± std. dev. of 7 runs, 1000000 loops each)\n"
     ]
    }
   ],
   "source": [
    "%timeit affichage_produit(3333333,555555)"
   ]
  },
  {
   "cell_type": "markdown",
   "metadata": {
    "slideshow": {
     "slide_type": "subslide"
    }
   },
   "source": [
    "Une fonction peut avoir de multiples arguments dont des argument facultatifs (avec des valeurs par défaut) :"
   ]
  },
  {
   "cell_type": "code",
   "execution_count": 66,
   "metadata": {
    "slideshow": {
     "slide_type": "fragment"
    }
   },
   "outputs": [
    {
     "name": "stdout",
     "output_type": "stream",
     "text": [
      "8\n",
      "9\n"
     ]
    }
   ],
   "source": [
    "def test(a,b,c=3):\n",
    "    return a+b+c\n",
    "# Que renvoie :\n",
    "print(test(a=2,b=3))\n",
    "print(test(a=2,b=3,c=4))"
   ]
  },
  {
   "cell_type": "markdown",
   "metadata": {
    "slideshow": {
     "slide_type": "subslide"
    }
   },
   "source": [
    "On peut avoir un nombre indéfini d’arguments en utilisant `*args` (ils sont rassemblés dans un tuple)"
   ]
  },
  {
   "cell_type": "code",
   "execution_count": 68,
   "metadata": {
    "slideshow": {
     "slide_type": "fragment"
    }
   },
   "outputs": [
    {
     "data": {
      "text/plain": [
       "6"
      ]
     },
     "execution_count": 68,
     "metadata": {},
     "output_type": "execute_result"
    }
   ],
   "source": [
    "def test2(a:int,b:float,*args):\n",
    "    val=0\n",
    "    for i in args:\n",
    "        val += i\n",
    "        #val = val+i\n",
    "    return a+b+val\n",
    "# Que renvoie :\n",
    "test2(2,4,6,8,5,7,8)\n",
    "test2(2,4)"
   ]
  },
  {
   "cell_type": "code",
   "execution_count": 71,
   "metadata": {},
   "outputs": [],
   "source": [
    "# utilisation d'un tuple dans un appel de fonctions\n",
    "affichage = (\"python\",\"data\", \"lbp\")"
   ]
  },
  {
   "cell_type": "code",
   "execution_count": 72,
   "metadata": {},
   "outputs": [
    {
     "name": "stdout",
     "output_type": "stream",
     "text": [
      "python data lbp\n"
     ]
    }
   ],
   "source": [
    "print(*affichage)"
   ]
  },
  {
   "cell_type": "markdown",
   "metadata": {
    "slideshow": {
     "slide_type": "subslide"
    }
   },
   "source": [
    "On peut aussi stocker les options d'une fonction dans un dictionnaire avec `**kwargs`"
   ]
  },
  {
   "cell_type": "code",
   "execution_count": 73,
   "metadata": {
    "slideshow": {
     "slide_type": "fragment"
    }
   },
   "outputs": [],
   "source": [
    "def test3(a,b,*args,w=1,**kwargs):\n",
    "    x=0\n",
    "    for val in args:\n",
    "        x+=val\n",
    "    x+=a\n",
    "    x-=b\n",
    "    x*=w\n",
    "    option1=kwargs.get('option1',False)\n",
    "    option2=kwargs.get('option2',False)\n",
    "    if option1 is True and option2 is True:\n",
    "        print(\"Tout est vrai\")\n",
    "        return x\n",
    "    else:\n",
    "        return x/2"
   ]
  },
  {
   "cell_type": "code",
   "execution_count": 74,
   "metadata": {},
   "outputs": [
    {
     "name": "stdout",
     "output_type": "stream",
     "text": [
      "-0.5\n",
      "Tout est vrai\n",
      "12\n"
     ]
    }
   ],
   "source": [
    "# Que renvoie\n",
    "print(test3(1,2))\n",
    "#print(test3(1,2,3,4))\n",
    "#print(test3(1,2,option1=True))\n",
    "#print(test3(1,2,option1=True,option2=True))\n",
    "print(test3(1,2,3,4,w=2,option1=True,option2=True))"
   ]
  },
  {
   "cell_type": "code",
   "execution_count": 75,
   "metadata": {},
   "outputs": [],
   "source": [
    "# utilisation d'un dictionnaire dans un appel de fonction\n",
    "dict_csv_lbp = dict(sep=',', header='infer',\n",
    "    index_col=0)\n"
   ]
  },
  {
   "cell_type": "code",
   "execution_count": 76,
   "metadata": {},
   "outputs": [
    {
     "data": {
      "text/html": [
       "<div>\n",
       "<style scoped>\n",
       "    .dataframe tbody tr th:only-of-type {\n",
       "        vertical-align: middle;\n",
       "    }\n",
       "\n",
       "    .dataframe tbody tr th {\n",
       "        vertical-align: top;\n",
       "    }\n",
       "\n",
       "    .dataframe thead th {\n",
       "        text-align: right;\n",
       "    }\n",
       "</style>\n",
       "<table border=\"1\" class=\"dataframe\">\n",
       "  <thead>\n",
       "    <tr style=\"text-align: right;\">\n",
       "      <th></th>\n",
       "      <th>TV</th>\n",
       "      <th>Radio</th>\n",
       "      <th>Newspaper</th>\n",
       "      <th>Sales</th>\n",
       "    </tr>\n",
       "  </thead>\n",
       "  <tbody>\n",
       "    <tr>\n",
       "      <th>1</th>\n",
       "      <td>230.1</td>\n",
       "      <td>37.8</td>\n",
       "      <td>69.2</td>\n",
       "      <td>22.1</td>\n",
       "    </tr>\n",
       "    <tr>\n",
       "      <th>2</th>\n",
       "      <td>44.5</td>\n",
       "      <td>39.3</td>\n",
       "      <td>45.1</td>\n",
       "      <td>10.4</td>\n",
       "    </tr>\n",
       "    <tr>\n",
       "      <th>3</th>\n",
       "      <td>17.2</td>\n",
       "      <td>45.9</td>\n",
       "      <td>69.3</td>\n",
       "      <td>9.3</td>\n",
       "    </tr>\n",
       "    <tr>\n",
       "      <th>4</th>\n",
       "      <td>151.5</td>\n",
       "      <td>41.3</td>\n",
       "      <td>58.5</td>\n",
       "      <td>18.5</td>\n",
       "    </tr>\n",
       "    <tr>\n",
       "      <th>5</th>\n",
       "      <td>180.8</td>\n",
       "      <td>10.8</td>\n",
       "      <td>58.4</td>\n",
       "      <td>12.9</td>\n",
       "    </tr>\n",
       "    <tr>\n",
       "      <th>6</th>\n",
       "      <td>8.7</td>\n",
       "      <td>48.9</td>\n",
       "      <td>75.0</td>\n",
       "      <td>7.2</td>\n",
       "    </tr>\n",
       "    <tr>\n",
       "      <th>7</th>\n",
       "      <td>57.5</td>\n",
       "      <td>32.8</td>\n",
       "      <td>23.5</td>\n",
       "      <td>11.8</td>\n",
       "    </tr>\n",
       "    <tr>\n",
       "      <th>8</th>\n",
       "      <td>120.2</td>\n",
       "      <td>19.6</td>\n",
       "      <td>11.6</td>\n",
       "      <td>13.2</td>\n",
       "    </tr>\n",
       "    <tr>\n",
       "      <th>9</th>\n",
       "      <td>8.6</td>\n",
       "      <td>2.1</td>\n",
       "      <td>1.0</td>\n",
       "      <td>4.8</td>\n",
       "    </tr>\n",
       "    <tr>\n",
       "      <th>10</th>\n",
       "      <td>199.8</td>\n",
       "      <td>2.6</td>\n",
       "      <td>21.2</td>\n",
       "      <td>10.6</td>\n",
       "    </tr>\n",
       "    <tr>\n",
       "      <th>11</th>\n",
       "      <td>66.1</td>\n",
       "      <td>5.8</td>\n",
       "      <td>24.2</td>\n",
       "      <td>8.6</td>\n",
       "    </tr>\n",
       "    <tr>\n",
       "      <th>12</th>\n",
       "      <td>214.7</td>\n",
       "      <td>24.0</td>\n",
       "      <td>4.0</td>\n",
       "      <td>17.4</td>\n",
       "    </tr>\n",
       "    <tr>\n",
       "      <th>13</th>\n",
       "      <td>23.8</td>\n",
       "      <td>35.1</td>\n",
       "      <td>65.9</td>\n",
       "      <td>9.2</td>\n",
       "    </tr>\n",
       "    <tr>\n",
       "      <th>14</th>\n",
       "      <td>97.5</td>\n",
       "      <td>7.6</td>\n",
       "      <td>7.2</td>\n",
       "      <td>9.7</td>\n",
       "    </tr>\n",
       "    <tr>\n",
       "      <th>15</th>\n",
       "      <td>204.1</td>\n",
       "      <td>32.9</td>\n",
       "      <td>46.0</td>\n",
       "      <td>19.0</td>\n",
       "    </tr>\n",
       "    <tr>\n",
       "      <th>16</th>\n",
       "      <td>195.4</td>\n",
       "      <td>47.7</td>\n",
       "      <td>52.9</td>\n",
       "      <td>22.4</td>\n",
       "    </tr>\n",
       "    <tr>\n",
       "      <th>17</th>\n",
       "      <td>67.8</td>\n",
       "      <td>36.6</td>\n",
       "      <td>114.0</td>\n",
       "      <td>12.5</td>\n",
       "    </tr>\n",
       "    <tr>\n",
       "      <th>18</th>\n",
       "      <td>281.4</td>\n",
       "      <td>39.6</td>\n",
       "      <td>55.8</td>\n",
       "      <td>24.4</td>\n",
       "    </tr>\n",
       "    <tr>\n",
       "      <th>19</th>\n",
       "      <td>69.2</td>\n",
       "      <td>20.5</td>\n",
       "      <td>18.3</td>\n",
       "      <td>11.3</td>\n",
       "    </tr>\n",
       "    <tr>\n",
       "      <th>20</th>\n",
       "      <td>147.3</td>\n",
       "      <td>23.9</td>\n",
       "      <td>19.1</td>\n",
       "      <td>14.6</td>\n",
       "    </tr>\n",
       "    <tr>\n",
       "      <th>21</th>\n",
       "      <td>218.4</td>\n",
       "      <td>27.7</td>\n",
       "      <td>53.4</td>\n",
       "      <td>18.0</td>\n",
       "    </tr>\n",
       "    <tr>\n",
       "      <th>22</th>\n",
       "      <td>237.4</td>\n",
       "      <td>5.1</td>\n",
       "      <td>23.5</td>\n",
       "      <td>12.5</td>\n",
       "    </tr>\n",
       "    <tr>\n",
       "      <th>23</th>\n",
       "      <td>13.2</td>\n",
       "      <td>15.9</td>\n",
       "      <td>49.6</td>\n",
       "      <td>5.6</td>\n",
       "    </tr>\n",
       "    <tr>\n",
       "      <th>24</th>\n",
       "      <td>228.3</td>\n",
       "      <td>16.9</td>\n",
       "      <td>26.2</td>\n",
       "      <td>15.5</td>\n",
       "    </tr>\n",
       "    <tr>\n",
       "      <th>25</th>\n",
       "      <td>62.3</td>\n",
       "      <td>12.6</td>\n",
       "      <td>18.3</td>\n",
       "      <td>9.7</td>\n",
       "    </tr>\n",
       "    <tr>\n",
       "      <th>26</th>\n",
       "      <td>262.9</td>\n",
       "      <td>3.5</td>\n",
       "      <td>19.5</td>\n",
       "      <td>12.0</td>\n",
       "    </tr>\n",
       "    <tr>\n",
       "      <th>27</th>\n",
       "      <td>142.9</td>\n",
       "      <td>29.3</td>\n",
       "      <td>12.6</td>\n",
       "      <td>15.0</td>\n",
       "    </tr>\n",
       "    <tr>\n",
       "      <th>28</th>\n",
       "      <td>240.1</td>\n",
       "      <td>16.7</td>\n",
       "      <td>22.9</td>\n",
       "      <td>15.9</td>\n",
       "    </tr>\n",
       "    <tr>\n",
       "      <th>29</th>\n",
       "      <td>248.8</td>\n",
       "      <td>27.1</td>\n",
       "      <td>22.9</td>\n",
       "      <td>18.9</td>\n",
       "    </tr>\n",
       "    <tr>\n",
       "      <th>30</th>\n",
       "      <td>70.6</td>\n",
       "      <td>16.0</td>\n",
       "      <td>40.8</td>\n",
       "      <td>10.5</td>\n",
       "    </tr>\n",
       "    <tr>\n",
       "      <th>...</th>\n",
       "      <td>...</td>\n",
       "      <td>...</td>\n",
       "      <td>...</td>\n",
       "      <td>...</td>\n",
       "    </tr>\n",
       "    <tr>\n",
       "      <th>171</th>\n",
       "      <td>50.0</td>\n",
       "      <td>11.6</td>\n",
       "      <td>18.4</td>\n",
       "      <td>8.4</td>\n",
       "    </tr>\n",
       "    <tr>\n",
       "      <th>172</th>\n",
       "      <td>164.5</td>\n",
       "      <td>20.9</td>\n",
       "      <td>47.4</td>\n",
       "      <td>14.5</td>\n",
       "    </tr>\n",
       "    <tr>\n",
       "      <th>173</th>\n",
       "      <td>19.6</td>\n",
       "      <td>20.1</td>\n",
       "      <td>17.0</td>\n",
       "      <td>7.6</td>\n",
       "    </tr>\n",
       "    <tr>\n",
       "      <th>174</th>\n",
       "      <td>168.4</td>\n",
       "      <td>7.1</td>\n",
       "      <td>12.8</td>\n",
       "      <td>11.7</td>\n",
       "    </tr>\n",
       "    <tr>\n",
       "      <th>175</th>\n",
       "      <td>222.4</td>\n",
       "      <td>3.4</td>\n",
       "      <td>13.1</td>\n",
       "      <td>11.5</td>\n",
       "    </tr>\n",
       "    <tr>\n",
       "      <th>176</th>\n",
       "      <td>276.9</td>\n",
       "      <td>48.9</td>\n",
       "      <td>41.8</td>\n",
       "      <td>27.0</td>\n",
       "    </tr>\n",
       "    <tr>\n",
       "      <th>177</th>\n",
       "      <td>248.4</td>\n",
       "      <td>30.2</td>\n",
       "      <td>20.3</td>\n",
       "      <td>20.2</td>\n",
       "    </tr>\n",
       "    <tr>\n",
       "      <th>178</th>\n",
       "      <td>170.2</td>\n",
       "      <td>7.8</td>\n",
       "      <td>35.2</td>\n",
       "      <td>11.7</td>\n",
       "    </tr>\n",
       "    <tr>\n",
       "      <th>179</th>\n",
       "      <td>276.7</td>\n",
       "      <td>2.3</td>\n",
       "      <td>23.7</td>\n",
       "      <td>11.8</td>\n",
       "    </tr>\n",
       "    <tr>\n",
       "      <th>180</th>\n",
       "      <td>165.6</td>\n",
       "      <td>10.0</td>\n",
       "      <td>17.6</td>\n",
       "      <td>12.6</td>\n",
       "    </tr>\n",
       "    <tr>\n",
       "      <th>181</th>\n",
       "      <td>156.6</td>\n",
       "      <td>2.6</td>\n",
       "      <td>8.3</td>\n",
       "      <td>10.5</td>\n",
       "    </tr>\n",
       "    <tr>\n",
       "      <th>182</th>\n",
       "      <td>218.5</td>\n",
       "      <td>5.4</td>\n",
       "      <td>27.4</td>\n",
       "      <td>12.2</td>\n",
       "    </tr>\n",
       "    <tr>\n",
       "      <th>183</th>\n",
       "      <td>56.2</td>\n",
       "      <td>5.7</td>\n",
       "      <td>29.7</td>\n",
       "      <td>8.7</td>\n",
       "    </tr>\n",
       "    <tr>\n",
       "      <th>184</th>\n",
       "      <td>287.6</td>\n",
       "      <td>43.0</td>\n",
       "      <td>71.8</td>\n",
       "      <td>26.2</td>\n",
       "    </tr>\n",
       "    <tr>\n",
       "      <th>185</th>\n",
       "      <td>253.8</td>\n",
       "      <td>21.3</td>\n",
       "      <td>30.0</td>\n",
       "      <td>17.6</td>\n",
       "    </tr>\n",
       "    <tr>\n",
       "      <th>186</th>\n",
       "      <td>205.0</td>\n",
       "      <td>45.1</td>\n",
       "      <td>19.6</td>\n",
       "      <td>22.6</td>\n",
       "    </tr>\n",
       "    <tr>\n",
       "      <th>187</th>\n",
       "      <td>139.5</td>\n",
       "      <td>2.1</td>\n",
       "      <td>26.6</td>\n",
       "      <td>10.3</td>\n",
       "    </tr>\n",
       "    <tr>\n",
       "      <th>188</th>\n",
       "      <td>191.1</td>\n",
       "      <td>28.7</td>\n",
       "      <td>18.2</td>\n",
       "      <td>17.3</td>\n",
       "    </tr>\n",
       "    <tr>\n",
       "      <th>189</th>\n",
       "      <td>286.0</td>\n",
       "      <td>13.9</td>\n",
       "      <td>3.7</td>\n",
       "      <td>15.9</td>\n",
       "    </tr>\n",
       "    <tr>\n",
       "      <th>190</th>\n",
       "      <td>18.7</td>\n",
       "      <td>12.1</td>\n",
       "      <td>23.4</td>\n",
       "      <td>6.7</td>\n",
       "    </tr>\n",
       "    <tr>\n",
       "      <th>191</th>\n",
       "      <td>39.5</td>\n",
       "      <td>41.1</td>\n",
       "      <td>5.8</td>\n",
       "      <td>10.8</td>\n",
       "    </tr>\n",
       "    <tr>\n",
       "      <th>192</th>\n",
       "      <td>75.5</td>\n",
       "      <td>10.8</td>\n",
       "      <td>6.0</td>\n",
       "      <td>9.9</td>\n",
       "    </tr>\n",
       "    <tr>\n",
       "      <th>193</th>\n",
       "      <td>17.2</td>\n",
       "      <td>4.1</td>\n",
       "      <td>31.6</td>\n",
       "      <td>5.9</td>\n",
       "    </tr>\n",
       "    <tr>\n",
       "      <th>194</th>\n",
       "      <td>166.8</td>\n",
       "      <td>42.0</td>\n",
       "      <td>3.6</td>\n",
       "      <td>19.6</td>\n",
       "    </tr>\n",
       "    <tr>\n",
       "      <th>195</th>\n",
       "      <td>149.7</td>\n",
       "      <td>35.6</td>\n",
       "      <td>6.0</td>\n",
       "      <td>17.3</td>\n",
       "    </tr>\n",
       "    <tr>\n",
       "      <th>196</th>\n",
       "      <td>38.2</td>\n",
       "      <td>3.7</td>\n",
       "      <td>13.8</td>\n",
       "      <td>7.6</td>\n",
       "    </tr>\n",
       "    <tr>\n",
       "      <th>197</th>\n",
       "      <td>94.2</td>\n",
       "      <td>4.9</td>\n",
       "      <td>8.1</td>\n",
       "      <td>9.7</td>\n",
       "    </tr>\n",
       "    <tr>\n",
       "      <th>198</th>\n",
       "      <td>177.0</td>\n",
       "      <td>9.3</td>\n",
       "      <td>6.4</td>\n",
       "      <td>12.8</td>\n",
       "    </tr>\n",
       "    <tr>\n",
       "      <th>199</th>\n",
       "      <td>283.6</td>\n",
       "      <td>42.0</td>\n",
       "      <td>66.2</td>\n",
       "      <td>25.5</td>\n",
       "    </tr>\n",
       "    <tr>\n",
       "      <th>200</th>\n",
       "      <td>232.1</td>\n",
       "      <td>8.6</td>\n",
       "      <td>8.7</td>\n",
       "      <td>13.4</td>\n",
       "    </tr>\n",
       "  </tbody>\n",
       "</table>\n",
       "<p>200 rows × 4 columns</p>\n",
       "</div>"
      ],
      "text/plain": [
       "        TV  Radio  Newspaper  Sales\n",
       "1    230.1   37.8       69.2   22.1\n",
       "2     44.5   39.3       45.1   10.4\n",
       "3     17.2   45.9       69.3    9.3\n",
       "4    151.5   41.3       58.5   18.5\n",
       "5    180.8   10.8       58.4   12.9\n",
       "6      8.7   48.9       75.0    7.2\n",
       "7     57.5   32.8       23.5   11.8\n",
       "8    120.2   19.6       11.6   13.2\n",
       "9      8.6    2.1        1.0    4.8\n",
       "10   199.8    2.6       21.2   10.6\n",
       "11    66.1    5.8       24.2    8.6\n",
       "12   214.7   24.0        4.0   17.4\n",
       "13    23.8   35.1       65.9    9.2\n",
       "14    97.5    7.6        7.2    9.7\n",
       "15   204.1   32.9       46.0   19.0\n",
       "16   195.4   47.7       52.9   22.4\n",
       "17    67.8   36.6      114.0   12.5\n",
       "18   281.4   39.6       55.8   24.4\n",
       "19    69.2   20.5       18.3   11.3\n",
       "20   147.3   23.9       19.1   14.6\n",
       "21   218.4   27.7       53.4   18.0\n",
       "22   237.4    5.1       23.5   12.5\n",
       "23    13.2   15.9       49.6    5.6\n",
       "24   228.3   16.9       26.2   15.5\n",
       "25    62.3   12.6       18.3    9.7\n",
       "26   262.9    3.5       19.5   12.0\n",
       "27   142.9   29.3       12.6   15.0\n",
       "28   240.1   16.7       22.9   15.9\n",
       "29   248.8   27.1       22.9   18.9\n",
       "30    70.6   16.0       40.8   10.5\n",
       "..     ...    ...        ...    ...\n",
       "171   50.0   11.6       18.4    8.4\n",
       "172  164.5   20.9       47.4   14.5\n",
       "173   19.6   20.1       17.0    7.6\n",
       "174  168.4    7.1       12.8   11.7\n",
       "175  222.4    3.4       13.1   11.5\n",
       "176  276.9   48.9       41.8   27.0\n",
       "177  248.4   30.2       20.3   20.2\n",
       "178  170.2    7.8       35.2   11.7\n",
       "179  276.7    2.3       23.7   11.8\n",
       "180  165.6   10.0       17.6   12.6\n",
       "181  156.6    2.6        8.3   10.5\n",
       "182  218.5    5.4       27.4   12.2\n",
       "183   56.2    5.7       29.7    8.7\n",
       "184  287.6   43.0       71.8   26.2\n",
       "185  253.8   21.3       30.0   17.6\n",
       "186  205.0   45.1       19.6   22.6\n",
       "187  139.5    2.1       26.6   10.3\n",
       "188  191.1   28.7       18.2   17.3\n",
       "189  286.0   13.9        3.7   15.9\n",
       "190   18.7   12.1       23.4    6.7\n",
       "191   39.5   41.1        5.8   10.8\n",
       "192   75.5   10.8        6.0    9.9\n",
       "193   17.2    4.1       31.6    5.9\n",
       "194  166.8   42.0        3.6   19.6\n",
       "195  149.7   35.6        6.0   17.3\n",
       "196   38.2    3.7       13.8    7.6\n",
       "197   94.2    4.9        8.1    9.7\n",
       "198  177.0    9.3        6.4   12.8\n",
       "199  283.6   42.0       66.2   25.5\n",
       "200  232.1    8.6        8.7   13.4\n",
       "\n",
       "[200 rows x 4 columns]"
      ]
     },
     "execution_count": 76,
     "metadata": {},
     "output_type": "execute_result"
    }
   ],
   "source": [
    "\n",
    "pd.read_csv(\"./data/Advertising.csv\",**dict_csv_lbp)"
   ]
  },
  {
   "cell_type": "markdown",
   "metadata": {
    "slideshow": {
     "slide_type": "subslide"
    }
   },
   "source": [
    "# Les fonctions lambda\n",
    "\n",
    "- Il s’agit de fonction très courte visant à simplifier votre code\n",
    "- On les trouve souvent dans du code en python\n",
    "- Les fonctions lambda peuvent être assigné a une variable qui devient une fonction ou être traitées toutes seules\n",
    "- On utilise le mot clé lambda\n",
    "- Il y a deux limites aux fonctions lambda :\n",
    "     - Elle ne peut s’écrire que sur une ligne\n",
    "     - Il n’y a qu’une instruction (on peut avoir plusieurs paramètres)\n",
    "\n",
    "- Quand utiliser des fonctions lambda :\n",
    "    - A l’intérieur d’autres fonctions\n",
    "    - Lorsqu’on veut appliquer une transformation sur des données\n"
   ]
  },
  {
   "cell_type": "code",
   "execution_count": 77,
   "metadata": {
    "slideshow": {
     "slide_type": "fragment"
    }
   },
   "outputs": [
    {
     "name": "stdout",
     "output_type": "stream",
     "text": [
      "125\n",
      "125\n"
     ]
    }
   ],
   "source": [
    "f=lambda x:x**3\n",
    "print(f(5))\n",
    "print((lambda x:x**3)(5))"
   ]
  },
  {
   "cell_type": "markdown",
   "metadata": {
    "slideshow": {
     "slide_type": "subslide"
    }
   },
   "source": [
    "### Exemples d'utilisations :"
   ]
  },
  {
   "cell_type": "code",
   "execution_count": 78,
   "metadata": {
    "slideshow": {
     "slide_type": "fragment"
    }
   },
   "outputs": [],
   "source": [
    "# Dans une fonction :\n",
    "def ma_fonction_puissance(x):\n",
    "    return lambda a,b : (a+b)**x"
   ]
  },
  {
   "cell_type": "code",
   "execution_count": 79,
   "metadata": {
    "slideshow": {
     "slide_type": "fragment"
    }
   },
   "outputs": [
    {
     "name": "stdout",
     "output_type": "stream",
     "text": [
      "125\n"
     ]
    }
   ],
   "source": [
    "fonction_cube=ma_fonction_puissance(3)\n",
    "print(fonction_cube(2,3))"
   ]
  },
  {
   "cell_type": "code",
   "execution_count": 80,
   "metadata": {
    "slideshow": {
     "slide_type": "subslide"
    }
   },
   "outputs": [
    {
     "data": {
      "text/plain": [
       "0    2\n",
       "1    5\n",
       "2    7\n",
       "3    9\n",
       "dtype: int64"
      ]
     },
     "execution_count": 80,
     "metadata": {},
     "output_type": "execute_result"
    }
   ],
   "source": [
    "# Pour une transformation\n",
    "from pandas import Series\n",
    "ser1=Series([2,5,7,9])\n",
    "ser1"
   ]
  },
  {
   "cell_type": "code",
   "execution_count": 81,
   "metadata": {
    "slideshow": {
     "slide_type": "fragment"
    }
   },
   "outputs": [
    {
     "data": {
      "text/plain": [
       "0     3\n",
       "1    30\n",
       "2    58\n",
       "3    94\n",
       "dtype: int64"
      ]
     },
     "execution_count": 81,
     "metadata": {},
     "output_type": "execute_result"
    }
   ],
   "source": [
    "ser1.apply(lambda x:x**2+2*x-5)"
   ]
  },
  {
   "cell_type": "markdown",
   "metadata": {
    "slideshow": {
     "slide_type": "subslide"
    }
   },
   "source": [
    "**Exercice :**\n",
    "\n",
    "Construire une fonction prenant en entrée deux listes et qui retourne la moyenne de tous les éléments des deux listes (une seule valeur)\n"
   ]
  },
  {
   "cell_type": "code",
   "execution_count": 83,
   "metadata": {},
   "outputs": [],
   "source": [
    "def moyenne_2listes(liste1,liste2):\n",
    "    \"\"\" Cette fonction renvoie la moyenne des éléments de deux listes \"\"\"\n",
    "    return sum(liste1+liste2)/len(liste1+liste2)\n"
   ]
  },
  {
   "cell_type": "code",
   "execution_count": 84,
   "metadata": {},
   "outputs": [],
   "source": [
    "def moyenne_2listes2(liste1,liste2):\n",
    "    \"\"\" Cette fonction renvoie la moyenne des éléments de deux listes \"\"\"\n",
    "    somme = 0\n",
    "    for val in liste1+liste2:\n",
    "        somme += val\n",
    "    return val / len(liste1+liste2)"
   ]
  },
  {
   "cell_type": "code",
   "execution_count": 85,
   "metadata": {},
   "outputs": [
    {
     "name": "stdout",
     "output_type": "stream",
     "text": [
      "1.21 µs ± 116 ns per loop (mean ± std. dev. of 7 runs, 1000000 loops each)\n",
      "1.48 µs ± 70.1 ns per loop (mean ± std. dev. of 7 runs, 1000000 loops each)\n"
     ]
    }
   ],
   "source": [
    "%timeit moyenne_2listes([3,6,8],[7,8,3,5])\n",
    "%timeit moyenne_2listes2([3,6,8],[7,8,3,5])"
   ]
  },
  {
   "cell_type": "code",
   "execution_count": 86,
   "metadata": {},
   "outputs": [],
   "source": [
    "def moyenne_listes(*listes):\n",
    "    \"\"\" Cette fonction renvoie la moyenne des éléments de n listes \"\"\"\n",
    "    #print(len(listes))\n",
    "    somme = 0\n",
    "    longueur = 0\n",
    "    for liste in listes:\n",
    "        somme += sum(liste)\n",
    "        longueur += len(liste)\n",
    "    return somme / longueur"
   ]
  },
  {
   "cell_type": "code",
   "execution_count": 87,
   "metadata": {},
   "outputs": [
    {
     "data": {
      "text/plain": [
       "5.777777777777778"
      ]
     },
     "execution_count": 87,
     "metadata": {},
     "output_type": "execute_result"
    }
   ],
   "source": [
    "moyenne_listes([3,6,8],[7,8,3,5],[5,7])"
   ]
  },
  {
   "cell_type": "markdown",
   "metadata": {
    "slideshow": {
     "slide_type": "slide"
    }
   },
   "source": [
    "# Les packages et les modules en Python\n",
    "\n",
    "- Il s’agit d’un ensemble de fonctions qui pourront être appelées d’un autre programme\n",
    "\n",
    "- On utilise :\n",
    "```\n",
    "import nom_pkg\n",
    "```\n",
    "- Si on utilise `as nm` par exemple, ceci permet de raccourcir l'appel aux fonctions du package\n",
    "- On peut utiliser `from mon_pkg import *`, dans ce cas plus de préfixes mais attention aux conflits\n",
    "- On peut aussi utiliser des fonctions ou des classes spécifiques (plus besoin de préfixe)\n",
    "```\n",
    "from pandas import Series\n",
    "```\n",
    "\n",
    "*Si on cherche des informations sur un module, on peut utiliser `dir()` et `help()`*"
   ]
  },
  {
   "cell_type": "code",
   "execution_count": 88,
   "metadata": {},
   "outputs": [],
   "source": [
    "import numpy"
   ]
  },
  {
   "cell_type": "code",
   "execution_count": 90,
   "metadata": {},
   "outputs": [],
   "source": [
    "#numpy.array()"
   ]
  },
  {
   "cell_type": "code",
   "execution_count": 91,
   "metadata": {},
   "outputs": [],
   "source": [
    "import numpy as np"
   ]
  },
  {
   "cell_type": "code",
   "execution_count": 92,
   "metadata": {},
   "outputs": [],
   "source": [
    "#np.array()"
   ]
  },
  {
   "cell_type": "code",
   "execution_count": 93,
   "metadata": {},
   "outputs": [],
   "source": [
    "from pandas import DataFrame"
   ]
  },
  {
   "cell_type": "code",
   "execution_count": 94,
   "metadata": {},
   "outputs": [],
   "source": [
    "#DataFrame"
   ]
  },
  {
   "cell_type": "code",
   "execution_count": 95,
   "metadata": {},
   "outputs": [],
   "source": [
    "from sklearn.neighbors import KNeighborsClassifier"
   ]
  },
  {
   "cell_type": "code",
   "execution_count": 96,
   "metadata": {},
   "outputs": [],
   "source": [
    "#KNeighborsClassifier"
   ]
  },
  {
   "cell_type": "code",
   "execution_count": 97,
   "metadata": {},
   "outputs": [],
   "source": [
    "from sklearn.decomposition import PCA as PCASklearn"
   ]
  },
  {
   "cell_type": "code",
   "execution_count": 98,
   "metadata": {},
   "outputs": [],
   "source": [
    "#PCASklearn"
   ]
  },
  {
   "cell_type": "code",
   "execution_count": 99,
   "metadata": {},
   "outputs": [],
   "source": [
    "import pandas"
   ]
  },
  {
   "cell_type": "markdown",
   "metadata": {
    "slideshow": {
     "slide_type": "subslide"
    }
   },
   "source": [
    "# Créer votre module et votre package\n",
    "\n",
    "- Il est très simple de faire appel à des fonctions ou à des classes depuis un autre fichier\n",
    "- Il suffit de stocker vos classes et fonctions dans un fichier `.py`\n",
    "- Celui-ci pourra être stocké dans un répertoire appartenant aux chemins de Python ou dans votre répertoire de travail\n",
    "- Vous avez alors la possibilité de faire :\n",
    "```\n",
    "import mon_fichier\n",
    "```\n",
    "et d’utiliser les fonctions et classes de ce fichiers\n",
    "\n",
    "- Vous venez de créer un module. \n",
    "- **Attention ceci n’est pas un package !**"
   ]
  },
  {
   "cell_type": "code",
   "execution_count": 100,
   "metadata": {},
   "outputs": [],
   "source": [
    "import mon_package.moyennes as mpm"
   ]
  },
  {
   "cell_type": "code",
   "execution_count": 101,
   "metadata": {},
   "outputs": [
    {
     "data": {
      "text/plain": [
       "5.333333333333333"
      ]
     },
     "execution_count": 101,
     "metadata": {},
     "output_type": "execute_result"
    }
   ],
   "source": [
    "mpm.moyenne_listes([5,4,7])"
   ]
  },
  {
   "cell_type": "markdown",
   "metadata": {
    "slideshow": {
     "slide_type": "subslide"
    }
   },
   "source": [
    "# Créer votre module et votre package (suite)\n",
    "\n",
    "\n",
    "- Un package est constitué de plus d’informations qu’un simple fichier `.py`\n",
    "\n",
    "\n",
    "- Voici les étapes pour créer votre premier package :\n",
    "    - Choisissez un nom simple et traduisant bien ce que va faire votre package (si possible un nom qui n’est pas déjà utilisé)\n",
    "    - Créez un répertoire du nom de votre package\n",
    "    - Créez un fichier `__init__.py` dans ce répertoire, ce fichier peut être vide dans un premier temps\n",
    "    - Dans le même répertoire ajoutez des fichiers avec vos fonctions et vos classes\n",
    "\n",
    "Si votre objectif est de publier le package sur PyPi, il faudra ajouter un fichier setup et les dépendances associées\n",
    "\n",
    "Pour importer votre package, il vous suffit de faire:\n",
    "```\n",
    "import nom_dossier.nom_fichier\n",
    "```"
   ]
  },
  {
   "cell_type": "markdown",
   "metadata": {
    "slideshow": {
     "slide_type": "subslide"
    }
   },
   "source": [
    "# Quelques détails sur la création de package\n",
    "\n",
    "- Le fichier `__init__.py` peut être vide mais il peut aussi contenir des informations\n",
    "- Ce fichier est lancé à chaque chargement du package, il peut inclure des dépendances, des vérifications de versions, des import vers les fonctions et classes des fichiers de votre package...\n",
    "\n",
    "\n",
    "- Où peut-on mettre nos packages ?\n",
    "    - Par défaut, si le package se trouve dans le même répertoire que le script exécuté, ça fonctionne\n",
    "    - Le package doit se trouver dans un répertoire lié au PythonPath\n",
    "    - Pour rechercher les répertoire, on utilise le module `sys` et la fonction `path`\n",
    "    - Pour créer un répertoire \"temporaire\", on utilise la fonction `path.insert()` du module `sys`"
   ]
  },
  {
   "cell_type": "code",
   "execution_count": 102,
   "metadata": {},
   "outputs": [
    {
     "data": {
      "text/plain": [
       "['C:\\\\Users\\\\s4d-asus-14\\\\Desktop\\\\cle_usb_python',\n",
       " 'C:\\\\Users\\\\s4d-asus-14\\\\Anaconda3\\\\python37.zip',\n",
       " 'C:\\\\Users\\\\s4d-asus-14\\\\Anaconda3\\\\DLLs',\n",
       " 'C:\\\\Users\\\\s4d-asus-14\\\\Anaconda3\\\\lib',\n",
       " 'C:\\\\Users\\\\s4d-asus-14\\\\Anaconda3',\n",
       " '',\n",
       " 'C:\\\\Users\\\\s4d-asus-14\\\\Anaconda3\\\\lib\\\\site-packages',\n",
       " 'C:\\\\Users\\\\s4d-asus-14\\\\Anaconda3\\\\lib\\\\site-packages\\\\win32',\n",
       " 'C:\\\\Users\\\\s4d-asus-14\\\\Anaconda3\\\\lib\\\\site-packages\\\\win32\\\\lib',\n",
       " 'C:\\\\Users\\\\s4d-asus-14\\\\Anaconda3\\\\lib\\\\site-packages\\\\Pythonwin',\n",
       " 'C:\\\\Users\\\\s4d-asus-14\\\\Anaconda3\\\\lib\\\\site-packages\\\\IPython\\\\extensions',\n",
       " 'C:\\\\Users\\\\s4d-asus-14\\\\.ipython']"
      ]
     },
     "execution_count": 102,
     "metadata": {},
     "output_type": "execute_result"
    }
   ],
   "source": [
    "import sys\n",
    "sys.path"
   ]
  },
  {
   "cell_type": "markdown",
   "metadata": {
    "slideshow": {
     "slide_type": "slide"
    }
   },
   "source": [
    "# Les classes\n",
    "\n",
    "Nous avons manipuler de nombreux objets de classes variées. Si nous voulons aller plus loin, il va falloir manipuler des classes et savoir les créer.\n",
    "\n",
    "Une classe est un type permettant de regrouper dans la même structure :\n",
    "- les informations (champs, propriétés, attributs) relatives à une entité ; \n",
    "- les procédures et fonctions permettant de les manipuler (méthodes)."
   ]
  },
  {
   "cell_type": "markdown",
   "metadata": {
    "slideshow": {
     "slide_type": "subslide"
    }
   },
   "source": [
    "Une classe commence par un constructeur :"
   ]
  },
  {
   "cell_type": "code",
   "execution_count": 103,
   "metadata": {
    "slideshow": {
     "slide_type": "fragment"
    }
   },
   "outputs": [],
   "source": [
    "class MaClasse:\n",
    "    \n",
    "    def __init__(self,nom=\"Emmanuel\",ville=\"Paris\"):\n",
    "        self.nom= nom\n",
    "        self.ville=ville\n",
    "        \n",
    "    def affiche_ville(self):\n",
    "        print(\"J'habite à \" ,self.ville)"
   ]
  },
  {
   "cell_type": "code",
   "execution_count": 104,
   "metadata": {},
   "outputs": [],
   "source": [
    "objet_classe=MaClasse(\"Emmanuel\",\"Lyon\")"
   ]
  },
  {
   "cell_type": "code",
   "execution_count": 105,
   "metadata": {},
   "outputs": [
    {
     "name": "stdout",
     "output_type": "stream",
     "text": [
      "J'habite à  Lyon\n"
     ]
    }
   ],
   "source": [
    "objet_classe.affiche_ville()"
   ]
  },
  {
   "cell_type": "code",
   "execution_count": 106,
   "metadata": {},
   "outputs": [],
   "source": [
    "objet_classe.nom=\"Aslane\""
   ]
  },
  {
   "cell_type": "code",
   "execution_count": 107,
   "metadata": {},
   "outputs": [
    {
     "data": {
      "text/plain": [
       "'Aslane'"
      ]
     },
     "execution_count": 107,
     "metadata": {},
     "output_type": "execute_result"
    }
   ],
   "source": [
    "objet_classe.nom"
   ]
  },
  {
   "cell_type": "markdown",
   "metadata": {
    "slideshow": {
     "slide_type": "fragment"
    }
   },
   "source": [
    "Ensuite on peut définir d’autres fonctions dans la classe\n",
    "\n",
    "\n",
    "On définit ensuite une nouvelle instance et on peut ainsi remplir le nouvel objet\n"
   ]
  },
  {
   "cell_type": "markdown",
   "metadata": {
    "slideshow": {
     "slide_type": "subslide"
    }
   },
   "source": [
    "# Les classes\n",
    "\n",
    "- La programmation orientée objet, c’est un style de programmation qui permet de regrouper au même endroit le comportement (les fonctions) et les données (les structures) qui sont faites pour aller ensemble\n",
    "- La notion d’objet en Python concerne toutes les structures Python\n",
    "- L’idée est de créer vos propres objets\n",
    "- La création d’un objet se fait en deux étapes :\n",
    "    - Description de l’objet\n",
    "    - Fabrication de l’objet\n",
    "- La notion de classe en python représente la description de l’objet\n",
    "- La deuxième étape se fait uniquement en allouant des informations à l’objet. L’objet obtenu est une instance de la classe\n"
   ]
  },
  {
   "cell_type": "code",
   "execution_count": 208,
   "metadata": {
    "slideshow": {
     "slide_type": "subslide"
    }
   },
   "outputs": [],
   "source": [
    "# Une classe va ressembler à :\n",
    "class MaClasse():\n",
    "    def __init__(self,val1=0,val2=0):\n",
    "        self.val1=val1\n",
    "        self.val2=val2\n",
    "    \n",
    "    def methode1(self,param1):\n",
    "        self.val1+=param1\n",
    "        print(self.val1)"
   ]
  },
  {
   "cell_type": "markdown",
   "metadata": {
    "slideshow": {
     "slide_type": "subslide"
    }
   },
   "source": [
    "**Exercice :**\n",
    "    \n",
    "Définissez une classe `CompteBancaire()`, qui permette d'instancier des objets tels que `compte1`, `compte2`, etc.\n",
    "\n",
    "Le constructeur de cette classe initialisera deux attributs d'instance `nom` et `solde`, avec les valeurs par défaut `'A'` et `0`.\n",
    "\n",
    "Trois autres méthodes sont définies :\n",
    "- `depot(somme)` permettra d'ajouter une certaine somme au solde\n",
    "- `retrait(somme)` permettra de retirer une certaine somme du solde\n",
    "- `affiche()` permettra d'afficher le solde du compte et un message d’alerte en cas de solde négatif. "
   ]
  },
  {
   "cell_type": "markdown",
   "metadata": {
    "slideshow": {
     "slide_type": "slide"
    }
   },
   "source": [
    "# La gestion des exceptions\n",
    "\n",
    "- Python possède un système pour gérer les exceptions\n",
    "- On utilise `try:` et `except:`\n",
    "- On peut intercepter différents types d’erreurs\n",
    "    - `NameError`, `TypeError`, `ZeroDivisionError`\n",
    "- Si on ne veut rien faire dans l’exception on peut utiliser le mot clé `pass`\n",
    "\n"
   ]
  },
  {
   "cell_type": "code",
   "execution_count": 108,
   "metadata": {
    "slideshow": {
     "slide_type": "fragment"
    }
   },
   "outputs": [],
   "source": [
    "def ma_fonction(val):\n",
    "    try:\n",
    "        print(val**2)\n",
    "    except:\n",
    "        print(\"Erreur\")"
   ]
  },
  {
   "cell_type": "code",
   "execution_count": 109,
   "metadata": {
    "slideshow": {
     "slide_type": "fragment"
    }
   },
   "outputs": [
    {
     "name": "stdout",
     "output_type": "stream",
     "text": [
      "Erreur\n"
     ]
    }
   ],
   "source": [
    "ma_fonction(\"r\")"
   ]
  },
  {
   "cell_type": "markdown",
   "metadata": {
    "slideshow": {
     "slide_type": "subslide"
    }
   },
   "source": [
    "**Exercices :**\n",
    "    \n",
    "Créer une gestion d’exception pour une fonction prenant en entrée deux `input()` puis divisez-les, utiliser les différentes erreurs d’exceptions\n"
   ]
  },
  {
   "cell_type": "code",
   "execution_count": 181,
   "metadata": {},
   "outputs": [],
   "source": [
    "def division():\n",
    "    \"\"\"Cette fonction permet de diviser deux nombres \n",
    "    en gérant les exceptions\"\"\"\n",
    "    try:\n",
    "        x = float(input(\"entrez un nombre \"))\n",
    "        y = float(input(\"entrez un nombre \"))\n",
    "    \n",
    "        return x/y\n",
    "    except ZeroDivisionError:\n",
    "        print(\"Attention division par 0\")\n",
    "    except ValueError:\n",
    "        print(\"Vous n'avez pas entrez de valeurs numériques\")"
   ]
  },
  {
   "cell_type": "code",
   "execution_count": 184,
   "metadata": {},
   "outputs": [
    {
     "name": "stdout",
     "output_type": "stream",
     "text": [
      "entrez un nombre 5\n",
      "entrez un nombre tt\n",
      "Vous n'avez pas entrez de valeurs numériques\n"
     ]
    }
   ],
   "source": [
    "division()"
   ]
  }
 ],
 "metadata": {
  "celltoolbar": "Format de la Cellule Texte Brut",
  "kernelspec": {
   "display_name": "Python 3",
   "language": "python",
   "name": "python3"
  },
  "language_info": {
   "codemirror_mode": {
    "name": "ipython",
    "version": 3
   },
   "file_extension": ".py",
   "mimetype": "text/x-python",
   "name": "python",
   "nbconvert_exporter": "python",
   "pygments_lexer": "ipython3",
   "version": "3.7.3"
  }
 },
 "nbformat": 4,
 "nbformat_minor": 2
}
