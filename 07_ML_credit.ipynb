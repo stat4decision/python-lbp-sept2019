{
 "cells": [
  {
   "cell_type": "markdown",
   "metadata": {},
   "source": [
    "# ML sur données de credit"
   ]
  },
  {
   "cell_type": "code",
   "execution_count": 1,
   "metadata": {},
   "outputs": [],
   "source": [
    "import pandas as pd\n",
    "import numpy as np"
   ]
  },
  {
   "cell_type": "markdown",
   "metadata": {},
   "source": [
    "## Importer les données (import + jointure)"
   ]
  },
  {
   "cell_type": "code",
   "execution_count": 2,
   "metadata": {},
   "outputs": [],
   "source": [
    "credit1 = pd.read_csv(\"./data/credit1.txt\",sep=\"\\t\")\n",
    "credit2 = pd.read_excel(\"./data/credit2.xlsx\")\n",
    "credit_global = pd.merge(credit1,credit2,on = \"Customer_ID\")"
   ]
  },
  {
   "cell_type": "code",
   "execution_count": 3,
   "metadata": {},
   "outputs": [
    {
     "name": "stdout",
     "output_type": "stream",
     "text": [
      "<class 'pandas.core.frame.DataFrame'>\n",
      "Int64Index: 2000 entries, 0 to 1999\n",
      "Data columns (total 31 columns):\n",
      "Months_as_a_Customer               2000 non-null int64\n",
      "Number_of_Products                 2000 non-null int64\n",
      "RFM_Score                          2000 non-null int64\n",
      "Average_Balance_Feed_Index         2000 non-null int64\n",
      "Number_of_Transactions             2000 non-null int64\n",
      "Personal_Debt_to_Equity_Ratio      2000 non-null int64\n",
      "Months_Current_Account             2000 non-null int64\n",
      "Number_of_Loan_Accounts            2000 non-null int64\n",
      "Customer_ID                        2000 non-null int64\n",
      "Has_Bad_Payment_Record             2000 non-null int64\n",
      "Members_Within_Household           2000 non-null int64\n",
      "Number_of_Call_Center_Contacts     2000 non-null int64\n",
      "Weeks_Since_Last_Offer             2000 non-null int64\n",
      "Accepted_Personal_Loan             2000 non-null object\n",
      "Accepted_Retention                 2000 non-null object\n",
      "Accepted_Home_Equity_Loan          2000 non-null object\n",
      "Accepted_Credit_Card               2000 non-null object\n",
      "Annual_value                       2000 non-null int64\n",
      "Interested_in_Personal_Loan        2000 non-null object\n",
      "Interested_in_Retention            2000 non-null object\n",
      "Interested_in_Home_Equity_Loan     2000 non-null object\n",
      "Interested_in_Credit_Card          2000 non-null object\n",
      "Age                                2000 non-null int64\n",
      "Gender                             2000 non-null object\n",
      "Marital_Status                     2000 non-null object\n",
      "Age_Youngest_Child                 2000 non-null int64\n",
      "Number_of_Workers_in_Household     2000 non-null int64\n",
      "Percentage_White_Collar_Workers    2000 non-null int64\n",
      "Household_Debt_to_Equity_Ratio     2000 non-null int64\n",
      "Income                             2000 non-null int64\n",
      "Homeowner                          2000 non-null object\n",
      "dtypes: int64(20), object(11)\n",
      "memory usage: 500.0+ KB\n"
     ]
    }
   ],
   "source": [
    "credit_global.info()"
   ]
  },
  {
   "cell_type": "code",
   "execution_count": 4,
   "metadata": {},
   "outputs": [
    {
     "data": {
      "text/plain": [
       "F    1742\n",
       "T     258\n",
       "Name: Accepted_Personal_Loan, dtype: int64"
      ]
     },
     "execution_count": 4,
     "metadata": {},
     "output_type": "execute_result"
    }
   ],
   "source": [
    "credit_global[\"Accepted_Personal_Loan\"].value_counts()"
   ]
  },
  {
   "cell_type": "markdown",
   "metadata": {},
   "source": [
    "### Extraire les colonnes pour X et pour y"
   ]
  },
  {
   "cell_type": "code",
   "execution_count": 5,
   "metadata": {},
   "outputs": [],
   "source": [
    "y = credit_global[\"Accepted_Personal_Loan\"]"
   ]
  },
  {
   "cell_type": "code",
   "execution_count": 6,
   "metadata": {},
   "outputs": [
    {
     "data": {
      "text/plain": [
       "Index(['Months_as_a_Customer', 'Number_of_Products', 'RFM_Score',\n",
       "       'Average_Balance_Feed_Index', 'Number_of_Transactions',\n",
       "       'Personal_Debt_to_Equity_Ratio', 'Months_Current_Account',\n",
       "       'Number_of_Loan_Accounts', 'Customer_ID', 'Has_Bad_Payment_Record',\n",
       "       'Members_Within_Household', 'Number_of_Call_Center_Contacts',\n",
       "       'Weeks_Since_Last_Offer', 'Accepted_Personal_Loan',\n",
       "       'Accepted_Retention', 'Accepted_Home_Equity_Loan',\n",
       "       'Accepted_Credit_Card', 'Annual_value', 'Interested_in_Personal_Loan',\n",
       "       'Interested_in_Retention', 'Interested_in_Home_Equity_Loan',\n",
       "       'Interested_in_Credit_Card', 'Age', 'Gender', 'Marital_Status',\n",
       "       'Age_Youngest_Child', 'Number_of_Workers_in_Household',\n",
       "       'Percentage_White_Collar_Workers', 'Household_Debt_to_Equity_Ratio',\n",
       "       'Income', 'Homeowner'],\n",
       "      dtype='object')"
      ]
     },
     "execution_count": 6,
     "metadata": {},
     "output_type": "execute_result"
    }
   ],
   "source": [
    "credit_global.columns"
   ]
  },
  {
   "cell_type": "code",
   "execution_count": 7,
   "metadata": {},
   "outputs": [],
   "source": [
    "list_vars = [ 'Months_as_a_Customer', 'Number_of_Products', 'RFM_Score',\n",
    "       'Average_Balance_Feed_Index', 'Number_of_Transactions',\n",
    "       'Personal_Debt_to_Equity_Ratio', 'Months_Current_Account',\n",
    "       'Number_of_Loan_Accounts', 'Has_Bad_Payment_Record',\n",
    "       'Members_Within_Household', 'Number_of_Call_Center_Contacts',\n",
    "       'Weeks_Since_Last_Offer','Age', 'Gender', \n",
    "       'Age_Youngest_Child', 'Number_of_Workers_in_Household',\n",
    "       'Percentage_White_Collar_Workers', 'Household_Debt_to_Equity_Ratio',\n",
    "       'Income', 'Homeowner' ]"
   ]
  },
  {
   "cell_type": "code",
   "execution_count": 8,
   "metadata": {},
   "outputs": [],
   "source": [
    "x = credit_global[list_vars]"
   ]
  },
  {
   "cell_type": "code",
   "execution_count": 9,
   "metadata": {},
   "outputs": [
    {
     "name": "stdout",
     "output_type": "stream",
     "text": [
      "<class 'pandas.core.frame.DataFrame'>\n",
      "Int64Index: 2000 entries, 0 to 1999\n",
      "Data columns (total 20 columns):\n",
      "Months_as_a_Customer               2000 non-null int64\n",
      "Number_of_Products                 2000 non-null int64\n",
      "RFM_Score                          2000 non-null int64\n",
      "Average_Balance_Feed_Index         2000 non-null int64\n",
      "Number_of_Transactions             2000 non-null int64\n",
      "Personal_Debt_to_Equity_Ratio      2000 non-null int64\n",
      "Months_Current_Account             2000 non-null int64\n",
      "Number_of_Loan_Accounts            2000 non-null int64\n",
      "Has_Bad_Payment_Record             2000 non-null int64\n",
      "Members_Within_Household           2000 non-null int64\n",
      "Number_of_Call_Center_Contacts     2000 non-null int64\n",
      "Weeks_Since_Last_Offer             2000 non-null int64\n",
      "Age                                2000 non-null int64\n",
      "Gender                             2000 non-null object\n",
      "Age_Youngest_Child                 2000 non-null int64\n",
      "Number_of_Workers_in_Household     2000 non-null int64\n",
      "Percentage_White_Collar_Workers    2000 non-null int64\n",
      "Household_Debt_to_Equity_Ratio     2000 non-null int64\n",
      "Income                             2000 non-null int64\n",
      "Homeowner                          2000 non-null object\n",
      "dtypes: int64(18), object(2)\n",
      "memory usage: 328.1+ KB\n"
     ]
    }
   ],
   "source": [
    "x.info()"
   ]
  },
  {
   "cell_type": "markdown",
   "metadata": {},
   "source": [
    "### Séparation apprentissage / validation"
   ]
  },
  {
   "cell_type": "code",
   "execution_count": 10,
   "metadata": {},
   "outputs": [],
   "source": [
    "from sklearn.model_selection import train_test_split"
   ]
  },
  {
   "cell_type": "code",
   "execution_count": 11,
   "metadata": {},
   "outputs": [],
   "source": [
    "x_train, x_test,y_train,y_test = train_test_split(x,y,test_size = 0.3)"
   ]
  },
  {
   "cell_type": "code",
   "execution_count": 12,
   "metadata": {},
   "outputs": [
    {
     "data": {
      "text/plain": [
       "(1400, 20)"
      ]
     },
     "execution_count": 12,
     "metadata": {},
     "output_type": "execute_result"
    }
   ],
   "source": [
    "x_train.shape"
   ]
  },
  {
   "cell_type": "markdown",
   "metadata": {},
   "source": [
    "### Préparation des données"
   ]
  },
  {
   "cell_type": "code",
   "execution_count": 13,
   "metadata": {},
   "outputs": [],
   "source": [
    "# on importe une classe\n",
    "from sklearn.preprocessing import LabelEncoder, OneHotEncoder"
   ]
  },
  {
   "cell_type": "code",
   "execution_count": 14,
   "metadata": {},
   "outputs": [],
   "source": [
    "# on crée un objet\n",
    "homeowner_transfo = LabelEncoder()\n",
    "# on fait la même chose pour Gender\n",
    "gender_transfo = LabelEncoder()"
   ]
  },
  {
   "cell_type": "code",
   "execution_count": 15,
   "metadata": {},
   "outputs": [
    {
     "name": "stderr",
     "output_type": "stream",
     "text": [
      "C:\\Users\\s4d-asus-14\\Anaconda3\\lib\\site-packages\\ipykernel_launcher.py:2: SettingWithCopyWarning: \n",
      "A value is trying to be set on a copy of a slice from a DataFrame.\n",
      "Try using .loc[row_indexer,col_indexer] = value instead\n",
      "\n",
      "See the caveats in the documentation: http://pandas.pydata.org/pandas-docs/stable/indexing.html#indexing-view-versus-copy\n",
      "  \n",
      "C:\\Users\\s4d-asus-14\\Anaconda3\\lib\\site-packages\\ipykernel_launcher.py:4: SettingWithCopyWarning: \n",
      "A value is trying to be set on a copy of a slice from a DataFrame.\n",
      "Try using .loc[row_indexer,col_indexer] = value instead\n",
      "\n",
      "See the caveats in the documentation: http://pandas.pydata.org/pandas-docs/stable/indexing.html#indexing-view-versus-copy\n",
      "  after removing the cwd from sys.path.\n"
     ]
    }
   ],
   "source": [
    "# on applique une méthode sur les données\n",
    "x_train[\"Homeowner\"]=homeowner_transfo.fit_transform(x_train[\"Homeowner\"])\n",
    "# on fait la même chose pour gender\n",
    "x_train[\"Gender\"]=gender_transfo.fit_transform(x_train[\"Gender\"])\n"
   ]
  },
  {
   "cell_type": "code",
   "execution_count": 16,
   "metadata": {},
   "outputs": [
    {
     "name": "stderr",
     "output_type": "stream",
     "text": [
      "C:\\Users\\s4d-asus-14\\Anaconda3\\lib\\site-packages\\ipykernel_launcher.py:2: SettingWithCopyWarning: \n",
      "A value is trying to be set on a copy of a slice from a DataFrame.\n",
      "Try using .loc[row_indexer,col_indexer] = value instead\n",
      "\n",
      "See the caveats in the documentation: http://pandas.pydata.org/pandas-docs/stable/indexing.html#indexing-view-versus-copy\n",
      "  \n",
      "C:\\Users\\s4d-asus-14\\Anaconda3\\lib\\site-packages\\ipykernel_launcher.py:4: SettingWithCopyWarning: \n",
      "A value is trying to be set on a copy of a slice from a DataFrame.\n",
      "Try using .loc[row_indexer,col_indexer] = value instead\n",
      "\n",
      "See the caveats in the documentation: http://pandas.pydata.org/pandas-docs/stable/indexing.html#indexing-view-versus-copy\n",
      "  after removing the cwd from sys.path.\n"
     ]
    }
   ],
   "source": [
    "# on applique la transformation sur x_test\n",
    "x_test[\"Homeowner\"]=homeowner_transfo.transform(x_test[\"Homeowner\"])\n",
    "# on fait la même chose pour gender\n",
    "x_test[\"Gender\"]=gender_transfo.transform(x_test[\"Gender\"])"
   ]
  },
  {
   "cell_type": "markdown",
   "metadata": {},
   "source": [
    "### Ajustement des modèles"
   ]
  },
  {
   "cell_type": "code",
   "execution_count": 17,
   "metadata": {},
   "outputs": [],
   "source": [
    "# on importe les classes\n",
    "from sklearn.linear_model import LogisticRegression\n",
    "from sklearn.ensemble import RandomForestClassifier, GradientBoostingClassifier\n",
    "from sklearn.svm import SVC\n",
    "from sklearn.neural_network import MLPClassifier"
   ]
  },
  {
   "cell_type": "code",
   "execution_count": 18,
   "metadata": {},
   "outputs": [],
   "source": [
    "# on crée les objets\n",
    "modele_logit = LogisticRegression()\n",
    "modele_rf = RandomForestClassifier()\n",
    "modele_gbm = GradientBoostingClassifier()\n",
    "modele_svm = SVC()\n",
    "modele_nn = MLPClassifier()"
   ]
  },
  {
   "cell_type": "code",
   "execution_count": 19,
   "metadata": {},
   "outputs": [
    {
     "name": "stderr",
     "output_type": "stream",
     "text": [
      "C:\\Users\\s4d-asus-14\\Anaconda3\\lib\\site-packages\\sklearn\\linear_model\\logistic.py:433: FutureWarning: Default solver will be changed to 'lbfgs' in 0.22. Specify a solver to silence this warning.\n",
      "  FutureWarning)\n",
      "C:\\Users\\s4d-asus-14\\Anaconda3\\lib\\site-packages\\sklearn\\ensemble\\forest.py:246: FutureWarning: The default value of n_estimators will change from 10 in version 0.20 to 100 in 0.22.\n",
      "  \"10 in version 0.20 to 100 in 0.22.\", FutureWarning)\n",
      "C:\\Users\\s4d-asus-14\\Anaconda3\\lib\\site-packages\\sklearn\\svm\\base.py:196: FutureWarning: The default value of gamma will change from 'auto' to 'scale' in version 0.22 to account better for unscaled features. Set gamma explicitly to 'auto' or 'scale' to avoid this warning.\n",
      "  \"avoid this warning.\", FutureWarning)\n"
     ]
    },
    {
     "data": {
      "text/plain": [
       "MLPClassifier(activation='relu', alpha=0.0001, batch_size='auto', beta_1=0.9,\n",
       "       beta_2=0.999, early_stopping=False, epsilon=1e-08,\n",
       "       hidden_layer_sizes=(100,), learning_rate='constant',\n",
       "       learning_rate_init=0.001, max_iter=200, momentum=0.9,\n",
       "       n_iter_no_change=10, nesterovs_momentum=True, power_t=0.5,\n",
       "       random_state=None, shuffle=True, solver='adam', tol=0.0001,\n",
       "       validation_fraction=0.1, verbose=False, warm_start=False)"
      ]
     },
     "execution_count": 19,
     "metadata": {},
     "output_type": "execute_result"
    }
   ],
   "source": [
    "# on ajuste les modèles avec les données (.fit())\n",
    "modele_logit.fit(x_train,y_train)\n",
    "modele_rf.fit(x_train,y_train)\n",
    "modele_gbm.fit(x_train,y_train)\n",
    "modele_svm.fit(x_train,y_train)\n",
    "modele_nn.fit(x_train,y_train)"
   ]
  },
  {
   "cell_type": "code",
   "execution_count": 20,
   "metadata": {},
   "outputs": [
    {
     "data": {
      "text/html": [
       "<div>\n",
       "<style scoped>\n",
       "    .dataframe tbody tr th:only-of-type {\n",
       "        vertical-align: middle;\n",
       "    }\n",
       "\n",
       "    .dataframe tbody tr th {\n",
       "        vertical-align: top;\n",
       "    }\n",
       "\n",
       "    .dataframe thead th {\n",
       "        text-align: right;\n",
       "    }\n",
       "</style>\n",
       "<table border=\"1\" class=\"dataframe\">\n",
       "  <thead>\n",
       "    <tr style=\"text-align: right;\">\n",
       "      <th></th>\n",
       "      <th>coef</th>\n",
       "    </tr>\n",
       "  </thead>\n",
       "  <tbody>\n",
       "    <tr>\n",
       "      <th>Number_of_Workers_in_Household</th>\n",
       "      <td>-0.036186</td>\n",
       "    </tr>\n",
       "    <tr>\n",
       "      <th>Percentage_White_Collar_Workers</th>\n",
       "      <td>-0.020452</td>\n",
       "    </tr>\n",
       "    <tr>\n",
       "      <th>Household_Debt_to_Equity_Ratio</th>\n",
       "      <td>-0.011641</td>\n",
       "    </tr>\n",
       "    <tr>\n",
       "      <th>Number_of_Transactions</th>\n",
       "      <td>-0.003747</td>\n",
       "    </tr>\n",
       "    <tr>\n",
       "      <th>Personal_Debt_to_Equity_Ratio</th>\n",
       "      <td>-0.003726</td>\n",
       "    </tr>\n",
       "    <tr>\n",
       "      <th>Age</th>\n",
       "      <td>-0.003726</td>\n",
       "    </tr>\n",
       "    <tr>\n",
       "      <th>Number_of_Call_Center_Contacts</th>\n",
       "      <td>-0.002608</td>\n",
       "    </tr>\n",
       "    <tr>\n",
       "      <th>Months_Current_Account</th>\n",
       "      <td>-0.001653</td>\n",
       "    </tr>\n",
       "    <tr>\n",
       "      <th>Gender</th>\n",
       "      <td>-0.001648</td>\n",
       "    </tr>\n",
       "    <tr>\n",
       "      <th>Number_of_Loan_Accounts</th>\n",
       "      <td>-0.001646</td>\n",
       "    </tr>\n",
       "    <tr>\n",
       "      <th>Average_Balance_Feed_Index</th>\n",
       "      <td>-0.001584</td>\n",
       "    </tr>\n",
       "    <tr>\n",
       "      <th>Members_Within_Household</th>\n",
       "      <td>-0.000749</td>\n",
       "    </tr>\n",
       "    <tr>\n",
       "      <th>Income</th>\n",
       "      <td>-0.000002</td>\n",
       "    </tr>\n",
       "    <tr>\n",
       "      <th>Homeowner</th>\n",
       "      <td>0.000086</td>\n",
       "    </tr>\n",
       "    <tr>\n",
       "      <th>Has_Bad_Payment_Record</th>\n",
       "      <td>0.000753</td>\n",
       "    </tr>\n",
       "    <tr>\n",
       "      <th>Age_Youngest_Child</th>\n",
       "      <td>0.002316</td>\n",
       "    </tr>\n",
       "    <tr>\n",
       "      <th>Months_as_a_Customer</th>\n",
       "      <td>0.002718</td>\n",
       "    </tr>\n",
       "    <tr>\n",
       "      <th>Number_of_Products</th>\n",
       "      <td>0.003294</td>\n",
       "    </tr>\n",
       "    <tr>\n",
       "      <th>Weeks_Since_Last_Offer</th>\n",
       "      <td>0.005168</td>\n",
       "    </tr>\n",
       "    <tr>\n",
       "      <th>RFM_Score</th>\n",
       "      <td>0.026663</td>\n",
       "    </tr>\n",
       "  </tbody>\n",
       "</table>\n",
       "</div>"
      ],
      "text/plain": [
       "                                     coef\n",
       "Number_of_Workers_in_Household  -0.036186\n",
       "Percentage_White_Collar_Workers -0.020452\n",
       "Household_Debt_to_Equity_Ratio  -0.011641\n",
       "Number_of_Transactions          -0.003747\n",
       "Personal_Debt_to_Equity_Ratio   -0.003726\n",
       "Age                             -0.003726\n",
       "Number_of_Call_Center_Contacts  -0.002608\n",
       "Months_Current_Account          -0.001653\n",
       "Gender                          -0.001648\n",
       "Number_of_Loan_Accounts         -0.001646\n",
       "Average_Balance_Feed_Index      -0.001584\n",
       "Members_Within_Household        -0.000749\n",
       "Income                          -0.000002\n",
       "Homeowner                        0.000086\n",
       "Has_Bad_Payment_Record           0.000753\n",
       "Age_Youngest_Child               0.002316\n",
       "Months_as_a_Customer             0.002718\n",
       "Number_of_Products               0.003294\n",
       "Weeks_Since_Last_Offer           0.005168\n",
       "RFM_Score                        0.026663"
      ]
     },
     "execution_count": 20,
     "metadata": {},
     "output_type": "execute_result"
    }
   ],
   "source": [
    "pd.DataFrame(modele_logit.coef_,index=[\"coef\"],\n",
    "             columns = x.columns).T.sort_values(\"coef\")"
   ]
  },
  {
   "cell_type": "code",
   "execution_count": 21,
   "metadata": {},
   "outputs": [
    {
     "data": {
      "text/html": [
       "<div>\n",
       "<style scoped>\n",
       "    .dataframe tbody tr th:only-of-type {\n",
       "        vertical-align: middle;\n",
       "    }\n",
       "\n",
       "    .dataframe tbody tr th {\n",
       "        vertical-align: top;\n",
       "    }\n",
       "\n",
       "    .dataframe thead th {\n",
       "        text-align: right;\n",
       "    }\n",
       "</style>\n",
       "<table border=\"1\" class=\"dataframe\">\n",
       "  <thead>\n",
       "    <tr style=\"text-align: right;\">\n",
       "      <th></th>\n",
       "      <th>coef</th>\n",
       "    </tr>\n",
       "  </thead>\n",
       "  <tbody>\n",
       "    <tr>\n",
       "      <th>Income</th>\n",
       "      <td>0.102362</td>\n",
       "    </tr>\n",
       "    <tr>\n",
       "      <th>Weeks_Since_Last_Offer</th>\n",
       "      <td>0.099618</td>\n",
       "    </tr>\n",
       "    <tr>\n",
       "      <th>Months_Current_Account</th>\n",
       "      <td>0.098325</td>\n",
       "    </tr>\n",
       "    <tr>\n",
       "      <th>Age</th>\n",
       "      <td>0.077841</td>\n",
       "    </tr>\n",
       "    <tr>\n",
       "      <th>Personal_Debt_to_Equity_Ratio</th>\n",
       "      <td>0.070941</td>\n",
       "    </tr>\n",
       "    <tr>\n",
       "      <th>Household_Debt_to_Equity_Ratio</th>\n",
       "      <td>0.065447</td>\n",
       "    </tr>\n",
       "    <tr>\n",
       "      <th>Percentage_White_Collar_Workers</th>\n",
       "      <td>0.062038</td>\n",
       "    </tr>\n",
       "    <tr>\n",
       "      <th>Number_of_Workers_in_Household</th>\n",
       "      <td>0.056061</td>\n",
       "    </tr>\n",
       "    <tr>\n",
       "      <th>Age_Youngest_Child</th>\n",
       "      <td>0.055424</td>\n",
       "    </tr>\n",
       "    <tr>\n",
       "      <th>Members_Within_Household</th>\n",
       "      <td>0.048573</td>\n",
       "    </tr>\n",
       "    <tr>\n",
       "      <th>Number_of_Call_Center_Contacts</th>\n",
       "      <td>0.046448</td>\n",
       "    </tr>\n",
       "    <tr>\n",
       "      <th>Average_Balance_Feed_Index</th>\n",
       "      <td>0.039477</td>\n",
       "    </tr>\n",
       "    <tr>\n",
       "      <th>Number_of_Loan_Accounts</th>\n",
       "      <td>0.037999</td>\n",
       "    </tr>\n",
       "    <tr>\n",
       "      <th>Months_as_a_Customer</th>\n",
       "      <td>0.029357</td>\n",
       "    </tr>\n",
       "    <tr>\n",
       "      <th>Number_of_Products</th>\n",
       "      <td>0.027259</td>\n",
       "    </tr>\n",
       "    <tr>\n",
       "      <th>RFM_Score</th>\n",
       "      <td>0.023695</td>\n",
       "    </tr>\n",
       "    <tr>\n",
       "      <th>Gender</th>\n",
       "      <td>0.022372</td>\n",
       "    </tr>\n",
       "    <tr>\n",
       "      <th>Number_of_Transactions</th>\n",
       "      <td>0.018392</td>\n",
       "    </tr>\n",
       "    <tr>\n",
       "      <th>Homeowner</th>\n",
       "      <td>0.013884</td>\n",
       "    </tr>\n",
       "    <tr>\n",
       "      <th>Has_Bad_Payment_Record</th>\n",
       "      <td>0.004487</td>\n",
       "    </tr>\n",
       "  </tbody>\n",
       "</table>\n",
       "</div>"
      ],
      "text/plain": [
       "                                     coef\n",
       "Income                           0.102362\n",
       "Weeks_Since_Last_Offer           0.099618\n",
       "Months_Current_Account           0.098325\n",
       "Age                              0.077841\n",
       "Personal_Debt_to_Equity_Ratio    0.070941\n",
       "Household_Debt_to_Equity_Ratio   0.065447\n",
       "Percentage_White_Collar_Workers  0.062038\n",
       "Number_of_Workers_in_Household   0.056061\n",
       "Age_Youngest_Child               0.055424\n",
       "Members_Within_Household         0.048573\n",
       "Number_of_Call_Center_Contacts   0.046448\n",
       "Average_Balance_Feed_Index       0.039477\n",
       "Number_of_Loan_Accounts          0.037999\n",
       "Months_as_a_Customer             0.029357\n",
       "Number_of_Products               0.027259\n",
       "RFM_Score                        0.023695\n",
       "Gender                           0.022372\n",
       "Number_of_Transactions           0.018392\n",
       "Homeowner                        0.013884\n",
       "Has_Bad_Payment_Record           0.004487"
      ]
     },
     "execution_count": 21,
     "metadata": {},
     "output_type": "execute_result"
    }
   ],
   "source": [
    "pd.DataFrame(modele_rf.feature_importances_,columns=[\"coef\"],\n",
    "             index = x.columns).sort_values(\"coef\",ascending=False)"
   ]
  },
  {
   "cell_type": "markdown",
   "metadata": {},
   "source": [
    "### Validation des modèles"
   ]
  },
  {
   "cell_type": "code",
   "execution_count": 22,
   "metadata": {},
   "outputs": [],
   "source": [
    "# on prédit sur les données de test\n",
    "y_pred_logit = modele_logit.predict(x_test)\n",
    "y_pred_rf = modele_rf.predict(x_test)\n",
    "y_pred_gbm = modele_gbm.predict(x_test)\n",
    "y_pred_svm = modele_svm.predict(x_test)\n",
    "y_pred_nn = modele_nn.predict(x_test)"
   ]
  },
  {
   "cell_type": "code",
   "execution_count": 23,
   "metadata": {},
   "outputs": [],
   "source": [
    "# on récupère des indicateurs de qualité prédictive\n",
    "from sklearn.metrics import accuracy_score, confusion_matrix"
   ]
  },
  {
   "cell_type": "code",
   "execution_count": 24,
   "metadata": {},
   "outputs": [
    {
     "name": "stdout",
     "output_type": "stream",
     "text": [
      "Pourcentage de bien classé pour le modèle logit : 0.865\n",
      "Pourcentage de bien classé pour le modèle RF : 0.8566666666666667\n",
      "Pourcentage de bien classé pour le modèle GBM : 0.8583333333333333\n",
      "Pourcentage de bien classé pour le modèle SVM : 0.865\n",
      "Pourcentage de bien classé pour le modèle NN : 0.7916666666666666\n"
     ]
    }
   ],
   "source": [
    "print(\"Pourcentage de bien classé pour le modèle logit : {}\".format(\n",
    "    accuracy_score(y_test, y_pred_logit)))\n",
    "print(\"Pourcentage de bien classé pour le modèle RF : {}\".format(\n",
    "    accuracy_score(y_test, y_pred_rf)))\n",
    "print(\"Pourcentage de bien classé pour le modèle GBM : {}\".format(\n",
    "    accuracy_score(y_test, y_pred_gbm)))\n",
    "print(\"Pourcentage de bien classé pour le modèle SVM : {}\".format(\n",
    "    accuracy_score(y_test, y_pred_svm)))\n",
    "print(\"Pourcentage de bien classé pour le modèle NN : {}\".format(\n",
    "    accuracy_score(y_test, y_pred_nn)))"
   ]
  },
  {
   "cell_type": "code",
   "execution_count": 25,
   "metadata": {},
   "outputs": [
    {
     "name": "stdout",
     "output_type": "stream",
     "text": [
      "Matrice de confusion pour le modèle logit :\n",
      " [[519   0]\n",
      " [ 81   0]]\n",
      "Matrice de confusion pour le modèle RF :\n",
      " [[513   6]\n",
      " [ 80   1]]\n",
      "Matrice de confusion pour le modèle GBM :\n",
      " [[515   4]\n",
      " [ 81   0]]\n",
      "Matrice de confusion pour le modèle SVM :\n",
      " [[519   0]\n",
      " [ 81   0]]\n",
      "Matrice de confusion pour le modèle NN :\n",
      " [[469  50]\n",
      " [ 75   6]]\n"
     ]
    }
   ],
   "source": [
    "print(\"Matrice de confusion pour le modèle logit :\\n {}\".format(\n",
    "    confusion_matrix(y_test, y_pred_logit)))\n",
    "print(\"Matrice de confusion pour le modèle RF :\\n {}\".format(\n",
    "    confusion_matrix(y_test, y_pred_rf)))\n",
    "print(\"Matrice de confusion pour le modèle GBM :\\n {}\".format(\n",
    "    confusion_matrix(y_test, y_pred_gbm)))\n",
    "print(\"Matrice de confusion pour le modèle SVM :\\n {}\".format(\n",
    "    confusion_matrix(y_test, y_pred_svm)))\n",
    "print(\"Matrice de confusion pour le modèle NN :\\n {}\".format(\n",
    "    confusion_matrix(y_test, y_pred_nn)))"
   ]
  },
  {
   "cell_type": "code",
   "execution_count": null,
   "metadata": {},
   "outputs": [],
   "source": []
  },
  {
   "cell_type": "code",
   "execution_count": null,
   "metadata": {},
   "outputs": [],
   "source": []
  }
 ],
 "metadata": {
  "kernelspec": {
   "display_name": "Python 3",
   "language": "python",
   "name": "python3"
  },
  "language_info": {
   "codemirror_mode": {
    "name": "ipython",
    "version": 3
   },
   "file_extension": ".py",
   "mimetype": "text/x-python",
   "name": "python",
   "nbconvert_exporter": "python",
   "pygments_lexer": "ipython3",
   "version": "3.7.3"
  }
 },
 "nbformat": 4,
 "nbformat_minor": 2
}
